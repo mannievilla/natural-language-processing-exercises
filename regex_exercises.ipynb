{
 "cells": [
  {
   "cell_type": "code",
   "execution_count": 106,
   "id": "4dd825e4",
   "metadata": {},
   "outputs": [
    {
     "data": {
      "text/plain": [
       "['b']"
      ]
     },
     "execution_count": 106,
     "metadata": {},
     "output_type": "execute_result"
    }
   ],
   "source": [
    "import re\n",
    "import pandas as pd\n",
    "re.findall(r'b', 'abcd')\n"
   ]
  },
  {
   "cell_type": "code",
   "execution_count": 2,
   "id": "8a0dbc29",
   "metadata": {},
   "outputs": [],
   "source": [
    "subject = 'MAry had a little lamb, not 12 lambs, Not 22 just one'"
   ]
  },
  {
   "cell_type": "code",
   "execution_count": 3,
   "id": "6b819c4d",
   "metadata": {},
   "outputs": [],
   "source": [
    "regexp = r'not'"
   ]
  },
  {
   "cell_type": "code",
   "execution_count": 4,
   "id": "f982e1bc",
   "metadata": {},
   "outputs": [
    {
     "data": {
      "text/plain": [
       "['not', 'Not']"
      ]
     },
     "execution_count": 4,
     "metadata": {},
     "output_type": "execute_result"
    }
   ],
   "source": [
    "re.findall(regexp, subject, re.IGNORECASE)"
   ]
  },
  {
   "cell_type": "code",
   "execution_count": 5,
   "id": "c72b109b",
   "metadata": {},
   "outputs": [],
   "source": [
    "regexp = r'lamb'"
   ]
  },
  {
   "cell_type": "code",
   "execution_count": 6,
   "id": "f96ab77f",
   "metadata": {},
   "outputs": [
    {
     "data": {
      "text/plain": [
       "['lamb', 'lamb']"
      ]
     },
     "execution_count": 6,
     "metadata": {},
     "output_type": "execute_result"
    }
   ],
   "source": [
    "re.findall(regexp, subject)"
   ]
  },
  {
   "cell_type": "markdown",
   "id": "6894bbf5",
   "metadata": {},
   "source": [
    "# Metacharactars"
   ]
  },
  {
   "cell_type": "code",
   "execution_count": 7,
   "id": "8aea8cc8",
   "metadata": {},
   "outputs": [],
   "source": [
    "subject = 'abcccC. 123!w '"
   ]
  },
  {
   "cell_type": "code",
   "execution_count": 8,
   "id": "f64acc49",
   "metadata": {},
   "outputs": [],
   "source": [
    "regexp = r'\\w'"
   ]
  },
  {
   "cell_type": "code",
   "execution_count": 9,
   "id": "c0de46ab",
   "metadata": {},
   "outputs": [
    {
     "data": {
      "text/plain": [
       "['a', 'b', 'c', 'c', 'c', 'C', '1', '2', '3', 'w']"
      ]
     },
     "execution_count": 9,
     "metadata": {},
     "output_type": "execute_result"
    }
   ],
   "source": [
    "re.findall(regexp, subject)"
   ]
  },
  {
   "cell_type": "code",
   "execution_count": 10,
   "id": "e80cb0f5",
   "metadata": {},
   "outputs": [],
   "source": [
    "regexp = r'\\w\\w'"
   ]
  },
  {
   "cell_type": "code",
   "execution_count": 11,
   "id": "28d976bf",
   "metadata": {},
   "outputs": [
    {
     "data": {
      "text/plain": [
       "['ab', 'cc', 'cC', '12']"
      ]
     },
     "execution_count": 11,
     "metadata": {},
     "output_type": "execute_result"
    }
   ],
   "source": [
    "re.findall(regexp, subject)"
   ]
  },
  {
   "cell_type": "code",
   "execution_count": 12,
   "id": "9e6dd814",
   "metadata": {},
   "outputs": [],
   "source": [
    "regexp = r'\\W'"
   ]
  },
  {
   "cell_type": "code",
   "execution_count": 13,
   "id": "717da567",
   "metadata": {},
   "outputs": [
    {
     "data": {
      "text/plain": [
       "['.', ' ', '!', ' ']"
      ]
     },
     "execution_count": 13,
     "metadata": {},
     "output_type": "execute_result"
    }
   ],
   "source": [
    "re.findall(regexp, subject)"
   ]
  },
  {
   "cell_type": "code",
   "execution_count": 14,
   "id": "bac00ef6",
   "metadata": {},
   "outputs": [],
   "source": [
    "regexp = r'\\d'"
   ]
  },
  {
   "cell_type": "code",
   "execution_count": 15,
   "id": "fdb0a5c7",
   "metadata": {},
   "outputs": [
    {
     "data": {
      "text/plain": [
       "['1', '2', '3']"
      ]
     },
     "execution_count": 15,
     "metadata": {},
     "output_type": "execute_result"
    }
   ],
   "source": [
    "re.findall(regexp, subject)"
   ]
  },
  {
   "cell_type": "code",
   "execution_count": 16,
   "id": "79f36b14",
   "metadata": {},
   "outputs": [],
   "source": [
    "regexp = r'\\D'"
   ]
  },
  {
   "cell_type": "code",
   "execution_count": 17,
   "id": "bed96a1b",
   "metadata": {},
   "outputs": [
    {
     "data": {
      "text/plain": [
       "['a', 'b', 'c', 'c', 'c', 'C', '.', ' ', '!', 'w', ' ']"
      ]
     },
     "execution_count": 17,
     "metadata": {},
     "output_type": "execute_result"
    }
   ],
   "source": [
    "re.findall(regexp, subject)"
   ]
  },
  {
   "cell_type": "code",
   "execution_count": 18,
   "id": "adf31b0f",
   "metadata": {},
   "outputs": [],
   "source": [
    "regexp = r'\\s'"
   ]
  },
  {
   "cell_type": "code",
   "execution_count": 19,
   "id": "c6af9aa6",
   "metadata": {},
   "outputs": [
    {
     "data": {
      "text/plain": [
       "[' ', ' ']"
      ]
     },
     "execution_count": 19,
     "metadata": {},
     "output_type": "execute_result"
    }
   ],
   "source": [
    "re.findall(regexp, subject)"
   ]
  },
  {
   "cell_type": "code",
   "execution_count": 20,
   "id": "22a8a27c",
   "metadata": {},
   "outputs": [],
   "source": [
    "# \n",
    "regexp = r'.'"
   ]
  },
  {
   "cell_type": "code",
   "execution_count": 21,
   "id": "7c16eeee",
   "metadata": {},
   "outputs": [
    {
     "data": {
      "text/plain": [
       "['a', 'b', 'c', 'c', 'c', 'C', '.', ' ', '1', '2', '3', '!', 'w', ' ']"
      ]
     },
     "execution_count": 21,
     "metadata": {},
     "output_type": "execute_result"
    }
   ],
   "source": [
    "re.findall(regexp, subject)"
   ]
  },
  {
   "cell_type": "code",
   "execution_count": 22,
   "id": "eb8ac0f4",
   "metadata": {},
   "outputs": [],
   "source": [
    "subject = 'c 1'"
   ]
  },
  {
   "cell_type": "code",
   "execution_count": 23,
   "id": "b67ee18e",
   "metadata": {},
   "outputs": [],
   "source": [
    "# 'c 1'\n",
    "regexp = r'\\w\\s\\d'"
   ]
  },
  {
   "cell_type": "code",
   "execution_count": 24,
   "id": "02fb45e7",
   "metadata": {},
   "outputs": [
    {
     "data": {
      "text/plain": [
       "['c 1']"
      ]
     },
     "execution_count": 24,
     "metadata": {},
     "output_type": "execute_result"
    }
   ],
   "source": [
    "re.findall(regexp, subject)"
   ]
  },
  {
   "cell_type": "code",
   "execution_count": 25,
   "id": "6b49f493",
   "metadata": {},
   "outputs": [],
   "source": [
    "# 'c 1'\n",
    "regexp = r'...'"
   ]
  },
  {
   "cell_type": "code",
   "execution_count": 26,
   "id": "8cad3bfe",
   "metadata": {},
   "outputs": [
    {
     "data": {
      "text/plain": [
       "['c 1']"
      ]
     },
     "execution_count": 26,
     "metadata": {},
     "output_type": "execute_result"
    }
   ],
   "source": [
    "re.findall(regexp, subject)"
   ]
  },
  {
   "cell_type": "code",
   "execution_count": 27,
   "id": "d569db2f",
   "metadata": {},
   "outputs": [],
   "source": [
    "regexp = r'\\w\\s\\w'"
   ]
  },
  {
   "cell_type": "code",
   "execution_count": 28,
   "id": "6822b2aa",
   "metadata": {},
   "outputs": [
    {
     "data": {
      "text/plain": [
       "['c 1']"
      ]
     },
     "execution_count": 28,
     "metadata": {},
     "output_type": "execute_result"
    }
   ],
   "source": [
    "re.findall(regexp, subject)"
   ]
  },
  {
   "cell_type": "code",
   "execution_count": 29,
   "id": "49ae8b6b",
   "metadata": {},
   "outputs": [],
   "source": [
    "regexp = r'\\w\\W\\w'"
   ]
  },
  {
   "cell_type": "code",
   "execution_count": 30,
   "id": "a73c8563",
   "metadata": {},
   "outputs": [
    {
     "data": {
      "text/plain": [
       "['c 1']"
      ]
     },
     "execution_count": 30,
     "metadata": {},
     "output_type": "execute_result"
    }
   ],
   "source": [
    "re.findall(regexp, subject)"
   ]
  },
  {
   "cell_type": "markdown",
   "id": "c78c4a9f",
   "metadata": {},
   "source": [
    "# Repeating"
   ]
  },
  {
   "cell_type": "code",
   "execution_count": 31,
   "id": "44576466",
   "metadata": {},
   "outputs": [],
   "source": [
    "subject = 'cccc! 123 ccc! 99!'"
   ]
  },
  {
   "cell_type": "code",
   "execution_count": 32,
   "id": "4110929c",
   "metadata": {},
   "outputs": [],
   "source": [
    "regexp = r'.'"
   ]
  },
  {
   "cell_type": "code",
   "execution_count": 33,
   "id": "10fc4df1",
   "metadata": {},
   "outputs": [
    {
     "data": {
      "text/plain": [
       "['c',\n",
       " 'c',\n",
       " 'c',\n",
       " 'c',\n",
       " '!',\n",
       " ' ',\n",
       " '1',\n",
       " '2',\n",
       " '3',\n",
       " ' ',\n",
       " 'c',\n",
       " 'c',\n",
       " 'c',\n",
       " '!',\n",
       " ' ',\n",
       " '9',\n",
       " '9',\n",
       " '!']"
      ]
     },
     "execution_count": 33,
     "metadata": {},
     "output_type": "execute_result"
    }
   ],
   "source": [
    "re.findall(regexp, subject)"
   ]
  },
  {
   "cell_type": "code",
   "execution_count": 34,
   "id": "068fc246",
   "metadata": {},
   "outputs": [],
   "source": [
    "regexp = r'c{3}'"
   ]
  },
  {
   "cell_type": "code",
   "execution_count": 35,
   "id": "d654666a",
   "metadata": {},
   "outputs": [
    {
     "data": {
      "text/plain": [
       "['ccc', 'ccc']"
      ]
     },
     "execution_count": 35,
     "metadata": {},
     "output_type": "execute_result"
    }
   ],
   "source": [
    "re.findall(regexp, subject)"
   ]
  },
  {
   "cell_type": "code",
   "execution_count": 36,
   "id": "d2ffe441",
   "metadata": {},
   "outputs": [],
   "source": [
    "# return one or more\n",
    "regexp = r'c+'"
   ]
  },
  {
   "cell_type": "code",
   "execution_count": 37,
   "id": "e5675c84",
   "metadata": {},
   "outputs": [
    {
     "data": {
      "text/plain": [
       "['cccc', 'ccc']"
      ]
     },
     "execution_count": 37,
     "metadata": {},
     "output_type": "execute_result"
    }
   ],
   "source": [
    "re.findall(regexp, subject)"
   ]
  },
  {
   "cell_type": "markdown",
   "id": "239def8b",
   "metadata": {},
   "source": [
    "# Find 123 and everything after it "
   ]
  },
  {
   "cell_type": "code",
   "execution_count": 38,
   "id": "a510eceb",
   "metadata": {},
   "outputs": [],
   "source": [
    "regexp = r'123.+'"
   ]
  },
  {
   "cell_type": "code",
   "execution_count": 39,
   "id": "17f3e230",
   "metadata": {},
   "outputs": [
    {
     "data": {
      "text/plain": [
       "['123 ccc! 99!']"
      ]
     },
     "execution_count": 39,
     "metadata": {},
     "output_type": "execute_result"
    }
   ],
   "source": [
    "re.findall(regexp, subject)"
   ]
  },
  {
   "cell_type": "code",
   "execution_count": 40,
   "id": "37fe4e88",
   "metadata": {},
   "outputs": [],
   "source": [
    "# Find the exclamation points and everyhting in bewtween them"
   ]
  },
  {
   "cell_type": "code",
   "execution_count": 41,
   "id": "abec87db",
   "metadata": {},
   "outputs": [],
   "source": [
    "regexp = r'!.+!'"
   ]
  },
  {
   "cell_type": "code",
   "execution_count": 42,
   "id": "b0c8ae44",
   "metadata": {},
   "outputs": [
    {
     "data": {
      "text/plain": [
       "['! 123 ccc! 99!']"
      ]
     },
     "execution_count": 42,
     "metadata": {},
     "output_type": "execute_result"
    }
   ],
   "source": [
    "re.findall(regexp, subject)"
   ]
  },
  {
   "cell_type": "code",
   "execution_count": 43,
   "id": "19a4f21e",
   "metadata": {},
   "outputs": [],
   "source": [
    "regexp = r'!.+?!'"
   ]
  },
  {
   "cell_type": "code",
   "execution_count": 44,
   "id": "19f62540",
   "metadata": {},
   "outputs": [
    {
     "data": {
      "text/plain": [
       "['! 123 ccc!']"
      ]
     },
     "execution_count": 44,
     "metadata": {},
     "output_type": "execute_result"
    }
   ],
   "source": [
    "re.findall(regexp, subject)"
   ]
  },
  {
   "cell_type": "code",
   "execution_count": 45,
   "id": "9c673562",
   "metadata": {},
   "outputs": [
    {
     "data": {
      "text/plain": [
       "'Codeup, founded in 2014, is located at 600 Navarro St.Suite 350, San Antonio, TX 78230.tagline: \"launch your career in tech!\"You can find us online at http://codeup.comand our alumni portal is located at https://alumni.codeup.comand \"codeup is a great school\"! 100,000'"
      ]
     },
     "execution_count": 45,
     "metadata": {},
     "output_type": "execute_result"
    }
   ],
   "source": [
    "subject = '''\n",
    "Codeup, founded in 2014, is located at 600 Navarro St.\n",
    "Suite 350, San Antonio, TX 78230.\n",
    "tagline: \"launch your career in tech!\"\n",
    "You can find us online at http://codeup.com\n",
    "and our alumni portal is located at https://alumni.codeup.com\n",
    "and \"codeup is a great school\"! 100,000\n",
    "'''\n",
    "subject = subject.replace('\\n','')\n",
    "subject"
   ]
  },
  {
   "cell_type": "code",
   "execution_count": 46,
   "id": "baa5d222",
   "metadata": {},
   "outputs": [],
   "source": [
    "regexp = r'\\d+'"
   ]
  },
  {
   "cell_type": "code",
   "execution_count": 47,
   "id": "304b71f6",
   "metadata": {},
   "outputs": [
    {
     "data": {
      "text/plain": [
       "['2014', '600', '350', '78230', '100', '000']"
      ]
     },
     "execution_count": 47,
     "metadata": {},
     "output_type": "execute_result"
    }
   ],
   "source": [
    "re.findall(regexp, subject)"
   ]
  },
  {
   "cell_type": "code",
   "execution_count": 48,
   "id": "bef31b18",
   "metadata": {},
   "outputs": [],
   "source": [
    "regexp = r'\\d{5}'"
   ]
  },
  {
   "cell_type": "code",
   "execution_count": 49,
   "id": "59ec3567",
   "metadata": {},
   "outputs": [
    {
     "data": {
      "text/plain": [
       "['78230']"
      ]
     },
     "execution_count": 49,
     "metadata": {},
     "output_type": "execute_result"
    }
   ],
   "source": [
    "re.findall(regexp, subject)"
   ]
  },
  {
   "cell_type": "code",
   "execution_count": 50,
   "id": "aa1d94da",
   "metadata": {},
   "outputs": [],
   "source": [
    "regexp = r'\\d{4}.'"
   ]
  },
  {
   "cell_type": "code",
   "execution_count": 51,
   "id": "1d9385b9",
   "metadata": {},
   "outputs": [
    {
     "data": {
      "text/plain": [
       "['2014,', '78230']"
      ]
     },
     "execution_count": 51,
     "metadata": {},
     "output_type": "execute_result"
    }
   ],
   "source": [
    "re.findall(regexp, subject)"
   ]
  },
  {
   "cell_type": "code",
   "execution_count": 52,
   "id": "13a5d9df",
   "metadata": {},
   "outputs": [],
   "source": [
    "regexp = r'\".+?\"'"
   ]
  },
  {
   "cell_type": "code",
   "execution_count": 53,
   "id": "75a3f321",
   "metadata": {},
   "outputs": [
    {
     "data": {
      "text/plain": [
       "['\"launch your career in tech!\"', '\"codeup is a great school\"']"
      ]
     },
     "execution_count": 53,
     "metadata": {},
     "output_type": "execute_result"
    }
   ],
   "source": [
    "re.findall(regexp, subject)"
   ]
  },
  {
   "cell_type": "markdown",
   "id": "b0dd5de0",
   "metadata": {},
   "source": [
    "re functions\n",
    "- `re.findall()`:finds all substrings where the REGEX matches, returns a list\n",
    "- `re.search()`: scans through a string, looking for any location where the RE matches; returns match object\n",
    "    - `match.span()`\n",
    "    - `match.group()`\n",
    "    - `match.groups()`\n",
    "    - `match.groupdict()`\n",
    "- `re.sub()`:allows us to match a regex and substitute in a new substring for the match; returns string\n",
    "- `re.compile()`:prepare a regular expression for use ahead of time, returns expression\n",
    "flags\n",
    "- `re.IGNORECASE`: ignore case\n",
    "- `re.VERBOSE`: ignore whitespace\n",
    "Metacharacters\n",
    "- `\\w`: any letter or digit\n",
    "- `\\W`: anything that is *not* a letter or digit\n",
    "- `\\d`: any digit\n",
    "- `\\D`: anything that is *not* a digit\n",
    "- `\\s` : any whitespace\n",
    "-  `.` : anything\n",
    "Repeating\n",
    "- `{}`: custom number of repetitions\n",
    "    - `{x}`: exactly x repetitions\n",
    "    - `{x,}`: x or more\n",
    "    - `{x,y}`: between x and y repetitions\n",
    "- `*`: zero or more\n",
    "- `+`: one or more\n",
    "- `?`: optional / greedy\n",
    "Any/None\n",
    "- `[]`: will match anything inside of\n",
    "- `[^]`: will match anything NOT inside of\n",
    "- `[-]`: will match a range of values inside of\n",
    "Capture Groups\n",
    "- `()`: grab what's contained in parentheses\n",
    "- `?:`: to ignore a capture group also called shy\n",
    "- `?P`: to name a capture group\n",
    "Other\n",
    "- `\\`: escape character\n",
    "\n",
    "\n",
    "\n",
    "\n",
    "\n",
    "\n",
    "\n",
    "\n",
    "\n",
    "\n",
    "\n",
    "Message quintela\n",
    "\n",
    "\n",
    "\n",
    "\n",
    "\n",
    "\n",
    "\n",
    "\n",
    "\n"
   ]
  },
  {
   "cell_type": "code",
   "execution_count": 54,
   "id": "b73c184d",
   "metadata": {},
   "outputs": [],
   "source": [
    "regexp = r'http://|https://'"
   ]
  },
  {
   "cell_type": "code",
   "execution_count": 55,
   "id": "9a5ecc92",
   "metadata": {},
   "outputs": [
    {
     "data": {
      "text/plain": [
       "['http://', 'https://']"
      ]
     },
     "execution_count": 55,
     "metadata": {},
     "output_type": "execute_result"
    }
   ],
   "source": [
    "re.findall(regexp, subject)"
   ]
  },
  {
   "cell_type": "code",
   "execution_count": 56,
   "id": "6c6facb8",
   "metadata": {},
   "outputs": [],
   "source": [
    "regexp = r'htt.+?//'"
   ]
  },
  {
   "cell_type": "code",
   "execution_count": 57,
   "id": "be1b49ed",
   "metadata": {},
   "outputs": [
    {
     "data": {
      "text/plain": [
       "['http://', 'https://']"
      ]
     },
     "execution_count": 57,
     "metadata": {},
     "output_type": "execute_result"
    }
   ],
   "source": [
    "re.findall(regexp, subject)"
   ]
  },
  {
   "cell_type": "code",
   "execution_count": 58,
   "id": "d46a272d",
   "metadata": {},
   "outputs": [],
   "source": [
    "subject = 'abc 123745 1bc'"
   ]
  },
  {
   "cell_type": "code",
   "execution_count": 59,
   "id": "f236a868",
   "metadata": {},
   "outputs": [],
   "source": [
    "regexp = r'a|b'"
   ]
  },
  {
   "cell_type": "code",
   "execution_count": 60,
   "id": "42340618",
   "metadata": {},
   "outputs": [
    {
     "data": {
      "text/plain": [
       "['a', 'b', 'b']"
      ]
     },
     "execution_count": 60,
     "metadata": {},
     "output_type": "execute_result"
    }
   ],
   "source": [
    "re.findall(regexp, subject)"
   ]
  },
  {
   "cell_type": "code",
   "execution_count": 61,
   "id": "d3d4cda0",
   "metadata": {},
   "outputs": [],
   "source": [
    "regexp = r'[ab]'"
   ]
  },
  {
   "cell_type": "code",
   "execution_count": 62,
   "id": "89421c80",
   "metadata": {},
   "outputs": [
    {
     "data": {
      "text/plain": [
       "['a', 'b', 'b']"
      ]
     },
     "execution_count": 62,
     "metadata": {},
     "output_type": "execute_result"
    }
   ],
   "source": [
    "re.findall(regexp, subject)"
   ]
  },
  {
   "cell_type": "code",
   "execution_count": 63,
   "id": "aed3a22e",
   "metadata": {},
   "outputs": [],
   "source": [
    "regexp = r'[^ab]'"
   ]
  },
  {
   "cell_type": "code",
   "execution_count": 64,
   "id": "e81f68ff",
   "metadata": {},
   "outputs": [
    {
     "data": {
      "text/plain": [
       "['c', ' ', '1', '2', '3', '7', '4', '5', ' ', '1', 'c']"
      ]
     },
     "execution_count": 64,
     "metadata": {},
     "output_type": "execute_result"
    }
   ],
   "source": [
    "re.findall(regexp, subject)"
   ]
  },
  {
   "cell_type": "code",
   "execution_count": 65,
   "id": "907392a4",
   "metadata": {},
   "outputs": [],
   "source": [
    "regexp = r'[2-4]'"
   ]
  },
  {
   "cell_type": "code",
   "execution_count": 66,
   "id": "adfa90c6",
   "metadata": {},
   "outputs": [
    {
     "data": {
      "text/plain": [
       "['2', '3', '4']"
      ]
     },
     "execution_count": 66,
     "metadata": {},
     "output_type": "execute_result"
    }
   ],
   "source": [
    "re.findall(regexp, subject)"
   ]
  },
  {
   "cell_type": "code",
   "execution_count": 67,
   "id": "e0c6c152",
   "metadata": {},
   "outputs": [],
   "source": [
    "regexp = r''"
   ]
  },
  {
   "cell_type": "code",
   "execution_count": 68,
   "id": "a6b84a5d",
   "metadata": {},
   "outputs": [],
   "source": [
    "subject = 'kiwi aardvark banana codeup data science academy extra'"
   ]
  },
  {
   "cell_type": "code",
   "execution_count": 69,
   "id": "f74f95b8",
   "metadata": {},
   "outputs": [],
   "source": [
    "regexp = r'[aeiou]\\w+'"
   ]
  },
  {
   "cell_type": "code",
   "execution_count": 70,
   "id": "ff878fb6",
   "metadata": {},
   "outputs": [
    {
     "data": {
      "text/plain": [
       "['iwi', 'aardvark', 'anana', 'odeup', 'ata', 'ience', 'academy', 'extra']"
      ]
     },
     "execution_count": 70,
     "metadata": {},
     "output_type": "execute_result"
    }
   ],
   "source": [
    "re.findall(regexp, subject)"
   ]
  },
  {
   "cell_type": "code",
   "execution_count": 71,
   "id": "e9545296",
   "metadata": {},
   "outputs": [],
   "source": [
    "regexp = r'\\b[aeiou]\\w+'"
   ]
  },
  {
   "cell_type": "code",
   "execution_count": 72,
   "id": "1873835e",
   "metadata": {},
   "outputs": [
    {
     "data": {
      "text/plain": [
       "['aardvark', 'academy', 'extra']"
      ]
     },
     "execution_count": 72,
     "metadata": {},
     "output_type": "execute_result"
    }
   ],
   "source": [
    "re.findall(regexp, subject)"
   ]
  },
  {
   "cell_type": "code",
   "execution_count": 73,
   "id": "c1918f19",
   "metadata": {},
   "outputs": [],
   "source": [
    "regexp = r'\\w+[aeiou]\\b'"
   ]
  },
  {
   "cell_type": "code",
   "execution_count": 74,
   "id": "3031af11",
   "metadata": {},
   "outputs": [
    {
     "data": {
      "text/plain": [
       "['kiwi', 'banana', 'data', 'science', 'extra']"
      ]
     },
     "execution_count": 74,
     "metadata": {},
     "output_type": "execute_result"
    }
   ],
   "source": [
    "re.findall(regexp, subject)"
   ]
  },
  {
   "cell_type": "code",
   "execution_count": 75,
   "id": "9ec17e03",
   "metadata": {},
   "outputs": [
    {
     "data": {
      "text/plain": [
       "'Codeup, founded in 2014, is located at 600 Navarro St.Suite 350, San Antonio, TX 78230.tagline: \"launch your career in tech!\"You can find us online at http://codeup.comand our alumni portal is located at https://alumni.codeup.comand \"codeup is a great school\"! 100,000'"
      ]
     },
     "execution_count": 75,
     "metadata": {},
     "output_type": "execute_result"
    }
   ],
   "source": [
    "subject = '''\n",
    "Codeup, founded in 2014, is located at 600 Navarro St.\n",
    "Suite 350, San Antonio, TX 78230.\n",
    "tagline: \"launch your career in tech!\"\n",
    "You can find us online at http://codeup.com\n",
    "and our alumni portal is located at https://alumni.codeup.com\n",
    "and \"codeup is a great school\"! 100,000\n",
    "'''\n",
    "subject = subject.replace('\\n','')\n",
    "subject"
   ]
  },
  {
   "cell_type": "markdown",
   "id": "2701fb79",
   "metadata": {},
   "source": [
    "find even digits (regardless if its apart of a bigger number)\\\n",
    "find entire unmbers taht are even\\\n",
    "find 2 or more odd digits in a row\\\n",
    "find all the capital lettesrs\\\n",
    "find all words that start with a capital letter"
   ]
  },
  {
   "cell_type": "code",
   "execution_count": 76,
   "id": "b461d70a",
   "metadata": {},
   "outputs": [],
   "source": [
    "regexp = r'\\d+[02468]\\b'"
   ]
  },
  {
   "cell_type": "code",
   "execution_count": 77,
   "id": "32a430cf",
   "metadata": {},
   "outputs": [
    {
     "data": {
      "text/plain": [
       "['2014', '600', '350', '78230', '100', '000']"
      ]
     },
     "execution_count": 77,
     "metadata": {},
     "output_type": "execute_result"
    }
   ],
   "source": [
    "re.findall(regexp, subject)"
   ]
  },
  {
   "cell_type": "code",
   "execution_count": 78,
   "id": "ec7ae28b",
   "metadata": {},
   "outputs": [],
   "source": [
    "regexp = r'[13579][13579]'"
   ]
  },
  {
   "cell_type": "code",
   "execution_count": 79,
   "id": "2a03bb92",
   "metadata": {},
   "outputs": [
    {
     "data": {
      "text/plain": [
       "['35']"
      ]
     },
     "execution_count": 79,
     "metadata": {},
     "output_type": "execute_result"
    }
   ],
   "source": [
    "re.findall(regexp, subject)"
   ]
  },
  {
   "cell_type": "code",
   "execution_count": 80,
   "id": "f3929192",
   "metadata": {},
   "outputs": [],
   "source": [
    "regexp = r'[13579]{2,}'"
   ]
  },
  {
   "cell_type": "code",
   "execution_count": 81,
   "id": "a14a83ba",
   "metadata": {},
   "outputs": [
    {
     "data": {
      "text/plain": [
       "['35']"
      ]
     },
     "execution_count": 81,
     "metadata": {},
     "output_type": "execute_result"
    }
   ],
   "source": [
    "re.findall(regexp, subject)"
   ]
  },
  {
   "cell_type": "code",
   "execution_count": 82,
   "id": "5dffed39",
   "metadata": {},
   "outputs": [],
   "source": [
    "regexp = r'[A-Z]'"
   ]
  },
  {
   "cell_type": "code",
   "execution_count": 83,
   "id": "0ee85508",
   "metadata": {},
   "outputs": [
    {
     "data": {
      "text/plain": [
       "['C', 'N', 'S', 'S', 'S', 'A', 'T', 'X', 'Y']"
      ]
     },
     "execution_count": 83,
     "metadata": {},
     "output_type": "execute_result"
    }
   ],
   "source": [
    "re.findall(regexp, subject)"
   ]
  },
  {
   "cell_type": "code",
   "execution_count": 84,
   "id": "9f66d9a2",
   "metadata": {},
   "outputs": [],
   "source": [
    "regexp = r'[A-Z]\\w+'"
   ]
  },
  {
   "cell_type": "code",
   "execution_count": 85,
   "id": "af8f2228",
   "metadata": {},
   "outputs": [
    {
     "data": {
      "text/plain": [
       "['Codeup', 'Navarro', 'St', 'Suite', 'San', 'Antonio', 'TX', 'You']"
      ]
     },
     "execution_count": 85,
     "metadata": {},
     "output_type": "execute_result"
    }
   ],
   "source": [
    "re.findall(regexp, subject)"
   ]
  },
  {
   "cell_type": "markdown",
   "id": "c7403f93",
   "metadata": {},
   "source": [
    "# Exercises"
   ]
  },
  {
   "cell_type": "markdown",
   "id": "d04d6e7a",
   "metadata": {},
   "source": [
    "## 1. Write a function named ```is_vowel```. It should accept a string as input and use a regular expression to determine if the passed string is a vowel. While not explicity mentioned in the lesson, you can treat the result of re.search as a boolean value that indicates whether or not the regular expression matches the given string."
   ]
  },
  {
   "cell_type": "code",
   "execution_count": 214,
   "id": "3aa08d8d",
   "metadata": {},
   "outputs": [],
   "source": [
    "def is_vowel():\n",
    "    value = input(\"Write a letter: \")\n",
    "    if len(value) == 1 and value.isalpha():\n",
    "    \n",
    "        regexp = r'^[AEIOUaeiou]'\n",
    "        result = re.search(regexp, value)\n",
    "        result = result.group()\n",
    "    \n",
    "    else:\n",
    "        result = print(\"Please enter a single letter.\")\n",
    "\n",
    "    return bool(result)"
   ]
  },
  {
   "cell_type": "code",
   "execution_count": 218,
   "id": "c449e8df",
   "metadata": {},
   "outputs": [
    {
     "name": "stdout",
     "output_type": "stream",
     "text": [
      "Write a letter: aaaaaa\n",
      "Please enter a single letter.\n"
     ]
    },
    {
     "data": {
      "text/plain": [
       "False"
      ]
     },
     "execution_count": 218,
     "metadata": {},
     "output_type": "execute_result"
    }
   ],
   "source": [
    "is_vowel()"
   ]
  },
  {
   "cell_type": "markdown",
   "id": "d33bbeac",
   "metadata": {},
   "source": [
    "# 2 . Write a function named ```is_valid_username``` that accepts a string as input. A valid username starts with a lowercase letter, and only consists of lowercase letters, numbers, or the ```_``` character. It should also be no longer than 32 characters. The function should return either True or False depending on whether the passed string is a valid username."
   ]
  },
  {
   "cell_type": "markdown",
   "id": "4ad06789",
   "metadata": {},
   "source": [
    "\n",
    "\n",
    "\n",
    "```\n",
    ">>> is_valid_username('aaaaaaaaaaaaaaaaaaaaaaaaaaaaaaaaa')\n",
    "False\n",
    ">>> is_valid_username('codeup')\n",
    "True\n",
    ">>> is_valid_username('Codeup')\n",
    "False\n",
    ">>> is_valid_username('codeup123')\n",
    "True\n",
    ">>> is_valid_username('1codeup')\n",
    "False\n",
    "```"
   ]
  },
  {
   "cell_type": "code",
   "execution_count": 206,
   "id": "daec1330",
   "metadata": {},
   "outputs": [],
   "source": [
    "def is_valid_username():\n",
    "    value = input(\"Write a username: \")\n",
    "    regexp = r'\\b[aeiou]\\w+?\\_?'\n",
    "    if bool(re.search(regexp, value)) == True and len(value)<=32:\n",
    "        print('True')\n",
    "        \n",
    "    else:\n",
    "        result = print(\"Please enter an acceptable username.\")\n"
   ]
  },
  {
   "cell_type": "code",
   "execution_count": 207,
   "id": "a662e899",
   "metadata": {},
   "outputs": [
    {
     "name": "stdout",
     "output_type": "stream",
     "text": [
      "Write a username: aaaaaaaaaaaaaaaaaaaaaaaaaaaaaaaaa\n",
      "Please enter an acceptable username.\n"
     ]
    }
   ],
   "source": [
    " is_valid_username()"
   ]
  },
  {
   "cell_type": "code",
   "execution_count": 219,
   "id": "0ddd46b2",
   "metadata": {},
   "outputs": [],
   "source": [
    "pattern = r'^[a-z][a-z0-9_]{,31}$'"
   ]
  },
  {
   "cell_type": "code",
   "execution_count": 221,
   "id": "3ca5b597",
   "metadata": {},
   "outputs": [],
   "source": [
    "def is_valid_username2(string):\n",
    "    pattern = r'^[a-z][a-z0-9_]{,31}$'# {,31} looking at all values to 32\n",
    "    return bool(re.search(pattern, string))"
   ]
  },
  {
   "cell_type": "code",
   "execution_count": 222,
   "id": "f5b8e229",
   "metadata": {
    "scrolled": true
   },
   "outputs": [
    {
     "data": {
      "text/plain": [
       "True"
      ]
     },
     "execution_count": 222,
     "metadata": {},
     "output_type": "execute_result"
    }
   ],
   "source": [
    "is_valid_username2('string')"
   ]
  },
  {
   "cell_type": "code",
   "execution_count": 223,
   "id": "ce4ee42c",
   "metadata": {},
   "outputs": [
    {
     "data": {
      "text/plain": [
       "False"
      ]
     },
     "execution_count": 223,
     "metadata": {},
     "output_type": "execute_result"
    }
   ],
   "source": [
    "is_valid_username2('2string')"
   ]
  },
  {
   "cell_type": "markdown",
   "id": "ed69f02e",
   "metadata": {},
   "source": [
    "# 3. Write a regular expression to capture phone numbers. It should match all of the following:"
   ]
  },
  {
   "cell_type": "markdown",
   "id": "9e00f513",
   "metadata": {},
   "source": [
    "(210) 867 5309\\\n",
    "+1 210.867.5309\\\n",
    "867-5309\\\n",
    "210-867-5309"
   ]
  },
  {
   "cell_type": "code",
   "execution_count": 211,
   "id": "7148e1b0",
   "metadata": {},
   "outputs": [],
   "source": [
    "subject = '''(210) 867 5309 +1 210.867.5309 867-5309 210-867-5309'''"
   ]
  },
  {
   "cell_type": "code",
   "execution_count": 209,
   "id": "ae274571",
   "metadata": {},
   "outputs": [],
   "source": [
    "regexp = r'(\\w+)'"
   ]
  },
  {
   "cell_type": "code",
   "execution_count": 156,
   "id": "ffeaae1a",
   "metadata": {
    "scrolled": true
   },
   "outputs": [
    {
     "data": {
      "text/plain": [
       "['210',\n",
       " '867',\n",
       " '5309',\n",
       " '1',\n",
       " '210',\n",
       " '867',\n",
       " '5309',\n",
       " '867',\n",
       " '5309',\n",
       " '210',\n",
       " '867',\n",
       " '5309']"
      ]
     },
     "execution_count": 156,
     "metadata": {},
     "output_type": "execute_result"
    }
   ],
   "source": [
    "re.findall(regexp, subject)"
   ]
  },
  {
   "cell_type": "code",
   "execution_count": 212,
   "id": "3d6df5bf",
   "metadata": {},
   "outputs": [],
   "source": [
    "regexp = r'(\\D\\w+\\D\\s\\d{3}\\s\\d{4})\\s(\\D\\d\\s\\S+)\\s(\\S+)\\s(\\S+)'"
   ]
  },
  {
   "cell_type": "code",
   "execution_count": 213,
   "id": "66720bfc",
   "metadata": {},
   "outputs": [
    {
     "data": {
      "text/plain": [
       "[('(210) 867 5309', '+1 210.867.5309', '867-5309', '210-867-5309')]"
      ]
     },
     "execution_count": 213,
     "metadata": {},
     "output_type": "execute_result"
    }
   ],
   "source": [
    "re.findall(regexp, subject)"
   ]
  },
  {
   "cell_type": "markdown",
   "id": "a3361085",
   "metadata": {},
   "source": [
    "# 4 . Use regular expressions to convert the dates below to the standardized year-month-day format."
   ]
  },
  {
   "cell_type": "markdown",
   "id": "88fc1aad",
   "metadata": {},
   "source": [
    "02/04/19\\\n",
    "02/05/19\\\n",
    "02/06/19\\\n",
    "02/07/19\\\n",
    "02/08/19\\\n",
    "02/09/19\\\n",
    "02/10/19"
   ]
  },
  {
   "cell_type": "code",
   "execution_count": 93,
   "id": "72b23ab9",
   "metadata": {},
   "outputs": [],
   "source": [
    "subject = [\n",
    "        '02/04/19',\n",
    "        '02/05/19',\n",
    "        '02/06/19',\n",
    "        '02/07/19',\n",
    "        '02/08/19',\n",
    "        '02/09/19',\n",
    "        '02/10/19'\n",
    "]"
   ]
  },
  {
   "cell_type": "code",
   "execution_count": 97,
   "id": "b6650f28",
   "metadata": {},
   "outputs": [
    {
     "data": {
      "text/plain": [
       "'2019-02-10'"
      ]
     },
     "execution_count": 97,
     "metadata": {},
     "output_type": "execute_result"
    }
   ],
   "source": [
    "regexp = r'(\\d{2})/(\\d{2})/(\\d{2})'\n",
    "\n",
    "re.sub(regexp, r'20\\3-\\1-\\2', date)"
   ]
  },
  {
   "cell_type": "code",
   "execution_count": 96,
   "id": "0f729ca7",
   "metadata": {},
   "outputs": [
    {
     "name": "stdout",
     "output_type": "stream",
     "text": [
      "2019-02-04\n",
      "2019-02-05\n",
      "2019-02-06\n",
      "2019-02-07\n",
      "2019-02-08\n",
      "2019-02-09\n",
      "2019-02-10\n"
     ]
    }
   ],
   "source": [
    "for date in subject:\n",
    "    regexp = r'(\\d{2})/(\\d{2})/(\\d{2})'\n",
    "\n",
    "    date = re.sub(regexp, r'20\\3-\\1-\\2', date)\n",
    "    print(date)"
   ]
  },
  {
   "cell_type": "markdown",
   "id": "c162f154",
   "metadata": {},
   "source": [
    "# 5. Write a regex to extract the various parts of these logfile lines:\n",
    "\n",
    "\n",
    "GET /api/v1/sales?page=86 [16/Apr/2019:193452+0000] HTTP/1.1 {200} 510348 \"python-requests/2.21.0\" 97.105.19.58\n",
    "POST /users_accounts/file-upload [16/Apr/2019:193452+0000] HTTP/1.1 {201} 42 \"User-Agent: Mozilla/5.0 (X11; Fedora; Fedora; Linux x86_64) AppleWebKit/537.36 (KHTML, like Gecko) Chrome/73.0.3683.86 Safari/537.36\" 97.105.19.58\n",
    "GET /api/v1/items?page=3 [16/Apr/2019:193453+0000] HTTP/1.1 {429} 3561 \"python-requests/2.21.0\" 97.105.19.58"
   ]
  },
  {
   "cell_type": "code",
   "execution_count": 185,
   "id": "dd68b82d",
   "metadata": {},
   "outputs": [],
   "source": [
    "logfile = ['GET /api/v1/sales?page=86 [16/Apr/2019:193452+0000] HTTP/1.1 {200} 510348 \"python-requests/2.21.0\" 97.105.19.58',\n",
    "'POST /users_accounts/file-upload [16/Apr/2019:193452+0000] HTTP/1.1 {201} 42 \"User-Agent: Mozilla/5.0 (X11; Fedora; Fedora; Linux x86_64) AppleWebKit/537.36 (KHTML, like Gecko) Chrome/73.0.3683.86 Safari/537.36\" 97.105.19.58',\n",
    "'GET /api/v1/items?page=3 [16/Apr/2019:193453+0000] HTTP/1.1 {429} 3561 \"python-requests/2.21.0\" 97.105.19.58']"
   ]
  },
  {
   "cell_type": "code",
   "execution_count": 168,
   "id": "44ddd40e",
   "metadata": {},
   "outputs": [],
   "source": [
    "subject = 'GET /api/v1/sales?page=86 [16/Apr/2019:193452+0000] HTTP/1.1 {200} 510348 \"python-requests/2.21.0\" 97.105.19.58'"
   ]
  },
  {
   "cell_type": "code",
   "execution_count": 169,
   "id": "7d0e8c61",
   "metadata": {},
   "outputs": [],
   "source": [
    "\n",
    "regexp = r'''(?P<method>\\w+)\\s(?P<path>.*)\\s\\[(?P<timestamp>.*)]\\s(?P<protocol>HTTP/1.1)\\s{(?P<status>\\d+)}\\s(?P<bytes>\\d+)\\s\\\"(?P<user_agent>.*)\\\"\\s(?P<ip_address>.*)'''\n"
   ]
  },
  {
   "cell_type": "code",
   "execution_count": 170,
   "id": "5e631181",
   "metadata": {},
   "outputs": [
    {
     "data": {
      "text/plain": [
       "<re.Match object; span=(0, 111), match='GET /api/v1/sales?page=86 [16/Apr/2019:193452+000>"
      ]
     },
     "execution_count": 170,
     "metadata": {},
     "output_type": "execute_result"
    }
   ],
   "source": [
    "match = re.search(regexp, subject)\n",
    "match"
   ]
  },
  {
   "cell_type": "code",
   "execution_count": 171,
   "id": "20d280ce",
   "metadata": {},
   "outputs": [
    {
     "data": {
      "text/plain": [
       "{'method': 'GET',\n",
       " 'path': '/api/v1/sales?page=86',\n",
       " 'timestamp': '16/Apr/2019:193452+0000',\n",
       " 'protocol': 'HTTP/1.1',\n",
       " 'status': '200',\n",
       " 'bytes': '510348',\n",
       " 'user_agent': 'python-requests/2.21.0',\n",
       " 'ip_address': '97.105.19.58'}"
      ]
     },
     "execution_count": 171,
     "metadata": {},
     "output_type": "execute_result"
    }
   ],
   "source": [
    "match.groupdict()"
   ]
  },
  {
   "cell_type": "code",
   "execution_count": 190,
   "id": "bf07ead3",
   "metadata": {},
   "outputs": [
    {
     "data": {
      "text/plain": [
       "[{'method': 'GET',\n",
       "  'path': '/api/v1/sales?page=86',\n",
       "  'timestamp': '16/Apr/2019:193452+0000',\n",
       "  'protocol': 'HTTP/1.1',\n",
       "  'status': '200',\n",
       "  'bytes': '510348',\n",
       "  'user_agent': 'python-requests/2.21.0',\n",
       "  'ip_address': '97.105.19.58'},\n",
       " {'method': 'POST',\n",
       "  'path': '/users_accounts/file-upload',\n",
       "  'timestamp': '16/Apr/2019:193452+0000',\n",
       "  'protocol': 'HTTP/1.1',\n",
       "  'status': '201',\n",
       "  'bytes': '42',\n",
       "  'user_agent': 'User-Agent: Mozilla/5.0 (X11; Fedora; Fedora; Linux x86_64) AppleWebKit/537.36 (KHTML, like Gecko) Chrome/73.0.3683.86 Safari/537.36',\n",
       "  'ip_address': '97.105.19.58'},\n",
       " {'method': 'GET',\n",
       "  'path': '/api/v1/items?page=3',\n",
       "  'timestamp': '16/Apr/2019:193453+0000',\n",
       "  'protocol': 'HTTP/1.1',\n",
       "  'status': '429',\n",
       "  'bytes': '3561',\n",
       "  'user_agent': 'python-requests/2.21.0',\n",
       "  'ip_address': '97.105.19.58'}]"
      ]
     },
     "execution_count": 190,
     "metadata": {},
     "output_type": "execute_result"
    }
   ],
   "source": [
    "dict_list = []\n",
    "# loop for logfile \n",
    "for item in logfile:\n",
    "    match = re.search(regexp, item)\n",
    "    dict_item = match.groupdict()\n",
    "    dict_list.append(dict_item)\n",
    "dict_list"
   ]
  },
  {
   "cell_type": "code",
   "execution_count": 177,
   "id": "a36b6c87",
   "metadata": {},
   "outputs": [
    {
     "data": {
      "text/plain": [
       "'POST /users_accounts/file-upload [16/Apr/2019:193452+0000] HTTP/1.1 201 42 \"User-Agent: Mozilla/5.0 (X11; Fedora; Fedora; Linux x86_64) AppleWebKit/537.36 (KHTML, like Gecko) Chrome/73.0.3683.86 Safari/537.36\" 97.105.19.58'"
      ]
     },
     "execution_count": 177,
     "metadata": {},
     "output_type": "execute_result"
    }
   ],
   "source": [
    "subject = logfile[1]\n",
    "subject"
   ]
  },
  {
   "cell_type": "code",
   "execution_count": 176,
   "id": "65b99687",
   "metadata": {},
   "outputs": [],
   "source": [
    "match = re.search(regexp, subject)\n",
    "match"
   ]
  },
  {
   "cell_type": "code",
   "execution_count": null,
   "id": "7961eb7c",
   "metadata": {},
   "outputs": [],
   "source": []
  }
 ],
 "metadata": {
  "kernelspec": {
   "display_name": "Python 3 (ipykernel)",
   "language": "python",
   "name": "python3"
  },
  "language_info": {
   "codemirror_mode": {
    "name": "ipython",
    "version": 3
   },
   "file_extension": ".py",
   "mimetype": "text/x-python",
   "name": "python",
   "nbconvert_exporter": "python",
   "pygments_lexer": "ipython3",
   "version": "3.10.9"
  }
 },
 "nbformat": 4,
 "nbformat_minor": 5
}
