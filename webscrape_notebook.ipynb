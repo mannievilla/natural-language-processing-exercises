{
 "cells": [
  {
   "cell_type": "code",
   "execution_count": 1,
   "id": "ce02e351",
   "metadata": {},
   "outputs": [],
   "source": [
    "# Standard imports for scrpaing\n",
    "from requests import get\n",
    "from bs4 import BeautifulSoup\n",
    "import os\n",
    "import pandas as pd\n",
    "\n",
    "\n",
    "# Used to run selenium\n",
    "from selenium import webdriver\n",
    "from selenium.webdriver.common.keys import Keys\n",
    "\n",
    "\n"
   ]
  },
  {
   "cell_type": "code",
   "execution_count": 2,
   "id": "bb390224",
   "metadata": {},
   "outputs": [],
   "source": [
    "url = 'https://codeup.com/data-science/math-in-data-science/'\n",
    "headers = {\"Authorization\": f\"token {github_token}\", \"User-Agent\": github_username}\n",
    "response = get(url, headers=headers)\n"
   ]
  },
  {
   "cell_type": "code",
   "execution_count": 3,
   "id": "7acfbf17",
   "metadata": {},
   "outputs": [
    {
     "name": "stdout",
     "output_type": "stream",
     "text": [
      "<!DOCTYPE html>\n",
      "<html lang=\"en-US\">\n",
      "<head>\n",
      "\t<meta charset=\"UTF-8\" />\n",
      "<meta http-equiv=\"X-UA-Compatible\" content=\"IE=edge\">\n",
      "\t<link rel=\"pingback\" href=\"https://codeup.edu/xmlrpc.php\" />\n",
      "\n",
      "\t<script type=\"text/javascript\">\n",
      "\t\tdocument.documentElement.className = 'js';\n",
      "\t</script>\n",
      "\t\n",
      "\t<link rel=\"preconnect\" href=\"https://fonts.gstatic.com\" crossorigin /><script id=\"diviarea-loader\">window.DiviPopupData=wi\n"
     ]
    }
   ],
   "source": [
    "print(response.text[:400])\n"
   ]
  },
  {
   "cell_type": "code",
   "execution_count": 4,
   "id": "d7b6b012",
   "metadata": {},
   "outputs": [],
   "source": [
    "# Make a soup variable holding the response content\n",
    "soup = BeautifulSoup(response.content, 'html.parser')\n"
   ]
  },
  {
   "cell_type": "code",
   "execution_count": 5,
   "id": "c165aea1",
   "metadata": {},
   "outputs": [
    {
     "data": {
      "text/plain": [
       "'\\n\\n\\n\\n\\n\\nWhat are the Math and Stats Principles You Need for Data Science?\\nOct 21, 2020 | Data Science\\n\\n\\nComing into our Data Science program, you will need to know some math and stats. However, many of our applicants actually learn in the application process – you don’t need to be an expert before applying! Data science is a very accessible field to anyone dedicated to learning new skills, and we can work with any applicant to help them learn what they need to know. But what “skills” do we mean, exactly? Just what exactly are the data science math and stats principles you need to know?\\nWhat are the main math principles you need to know to get into Codeup’s Data Science program?\\n\\n\\nAlgebra\\nDo you know PEMDAS and can you solve for x? You will need to be or become comfortable with the following:\\xa0\\n\\nVariables (x, y, n, etc.)\\nFormulas, functions, and variable manipulations (e.g. x^2 = x + 6, solve for x).\\nOrder of evaluation: PEMDAS: parentheses, exponents, then multiplication, division, addition, and subtraction\\nCommutativity where a + b = b + a\\nAssociativity where a + (b + c) = (a + b) + c\\nAdding and subtracting matrices\\nA conceptual understanding of exponential growth/decay- things can increase at an increasing rate\\n\\nDescriptive Statistics\\nKnow what a min, max, mode, median, and average are. Have a conceptual understanding that stats/probability is about trying to quantify uncertainty.\\nData Visualization\\nKnow what a scatterplot is and how to read a barplot.\\nHow to Learn and Expand on These Concepts\\nThere are a number of great resources out there to teach you these and similar concepts. Khan Academy is a great starting place for data science math! If you want to know what exactly we assign our applicants, you’ll just have to apply!\\n\\xa0\\nWhat about once you’re in Codeup?\\n\\n\\nWhat You Won’t Do\\nDo we do any mathematical proofs for concepts or perform derivations? No.\\xa0\\nDo we do any calculus and probability calculating by hand? No.\\nAre we transforming equations, where we cancel out units or terms and do lots of algebraic gymnastics? No\\nWhat You Will Do\\nWill we have Python solve our linear algebra problems for us? Yes\\nWill we have Python calculate probabilities, the area under a curve, and the slope of a line for us? Yes\\nWill we have Python do all of the calculus for us? Yes\\n\\xa0\\nSee, the data science math and stats slice of the pie is certainly doable. If you like problem-solving and are ready to challenge yourself, you’ll love data science! If you are interested in learning about data science, just apply! Our Admissions Manager can work with you to get you where you need to be starting from where you are now. Let us help you get there so you can launch a great new career.\\n\\n\\n\\n\\n\\n\\n\\n\\nOur ProgramsCloud Administration\\nFull Stack Web Development\\nData Science\\n\\n\\n\\n\\n\\nLatest Blog Articles\\nSpotlight on APIDA Voices: Celebrating Heritage and Inspiring Change ft. Arbeena Thapa\\nWomen in tech: Panelist Spotlight – Magdalena Rahn\\nWomen in tech: Panelist Spotlight – Rachel Robbins-Mayhill\\nWomen in Tech: Panelist Spotlight – Sarah Mellor\\nWomen in Tech: Panelist Spotlight – Madeleine Capper\\n\\n\\n\\n\\n\\n\\n\\n\\n\\n\\n\\n\\n\\n\\n\\n\\n\\n \\n\\n\\n'"
      ]
     },
     "execution_count": 5,
     "metadata": {},
     "output_type": "execute_result"
    }
   ],
   "source": [
    "# see also `soup.find_all`\n",
    "#\n",
    "# beautiful soup uses `class_` as the keyword argument for searching\n",
    "# for a class because `class` is a reserved word in python\n",
    "# we'll use the class name that we identified from looking in the inspector in chrome\n",
    "article = soup.find('div', id='main-content')\n",
    "article.text\n"
   ]
  },
  {
   "cell_type": "code",
   "execution_count": 6,
   "id": "146e6025",
   "metadata": {},
   "outputs": [],
   "source": [
    "with open('article.txt', 'w') as f:\n",
    "    f.write(article.text)\n"
   ]
  },
  {
   "cell_type": "code",
   "execution_count": 7,
   "id": "017658aa",
   "metadata": {},
   "outputs": [],
   "source": [
    "def get_article_text():\n",
    "    # if we already have the data, read it locally\n",
    "    if path.exists('article.txt'):\n",
    "        with open('article.txt') as f:\n",
    "            return f.read()\n",
    "\n",
    "    # otherwise go fetch the data\n",
    "    url = 'https://codeup.com/data-science/math-in-data-science/'\n",
    "    headers = {'User-Agent': 'Codeup Data Science'}\n",
    "    response = get(url, headers=headers)\n",
    "    soup = BeautifulSoup(response.text)\n",
    "    article = soup.find('div', id='main-content')\n",
    "\n",
    "    # save it for next time\n",
    "    with open('article.txt', 'w') as f:\n",
    "        f.write(article.text)\n",
    "\n",
    "    return article.text\n"
   ]
  },
  {
   "cell_type": "code",
   "execution_count": 8,
   "id": "a0f6aacc",
   "metadata": {},
   "outputs": [],
   "source": [
    "url = 'https://codeup.edu/blog/'\n",
    "headers = {'User-Agent': 'Codeup Data Science'} # Some websites don't accept the pyhon-requests default user-agent\n",
    "response = get(url, headers=headers)"
   ]
  },
  {
   "cell_type": "code",
   "execution_count": 9,
   "id": "47c17b24",
   "metadata": {},
   "outputs": [
    {
     "name": "stdout",
     "output_type": "stream",
     "text": [
      "<!DOCTYPE html>\n",
      "<html lang=\"en-US\">\n",
      "<head>\n",
      "\t<meta charset=\"UTF-8\" />\n",
      "<meta http-equiv=\"X-UA-Compatible\" content=\"IE=edge\">\n",
      "\t<link rel=\"pingback\" href=\"https://codeup.edu/xmlrpc.php\" />\n",
      "\n",
      "\t<script type=\"text/javascript\">\n",
      "\t\tdocument.documentElement.className = 'js';\n",
      "\t</script>\n",
      "\t\n",
      "\t<link rel=\"preconnect\" href=\"https://fonts.gstatic.com\" crossorigin /><script id=\"diviarea-loader\">window.DiviPopupData=wi\n"
     ]
    }
   ],
   "source": [
    "print(response.text[:400])"
   ]
  },
  {
   "cell_type": "code",
   "execution_count": 10,
   "id": "db916b1a",
   "metadata": {},
   "outputs": [],
   "source": [
    "# Make a soup variable holding the response content\n",
    "soup = BeautifulSoup(response.content, 'html.parser')"
   ]
  },
  {
   "cell_type": "code",
   "execution_count": 11,
   "id": "697b4483",
   "metadata": {},
   "outputs": [
    {
     "data": {
      "text/plain": [
       "[<h2 class=\"entry-title\"><a href=\"https://codeup.edu/featured/apida-heritage-month/\">Spotlight on APIDA Voices: Celebrating Heritage and Inspiring Change ft. Arbeena Thapa</a></h2>,\n",
       " <h2 class=\"entry-title\"><a href=\"https://codeup.edu/featured/women-in-tech-panelist-spotlight/\">Women in tech: Panelist Spotlight – Magdalena Rahn</a></h2>,\n",
       " <h2 class=\"entry-title\"><a href=\"https://codeup.edu/featured/women-in-tech-rachel-robbins-mayhill/\">Women in tech: Panelist Spotlight – Rachel Robbins-Mayhill</a></h2>,\n",
       " <h2 class=\"entry-title\"><a href=\"https://codeup.edu/codeup-news/women-in-tech-panelist-spotlight-sarah-mellor/\">Women in Tech: Panelist Spotlight – Sarah Mellor</a></h2>,\n",
       " <h2 class=\"entry-title\"><a href=\"https://codeup.edu/events/women-in-tech-madeleine/\">Women in Tech: Panelist Spotlight – Madeleine Capper</a></h2>,\n",
       " <h2 class=\"entry-title\"><a href=\"https://codeup.edu/codeup-news/panelist-spotlight-4/\">Black Excellence in Tech: Panelist Spotlight – Wilmarie De La Cruz Mejia</a></h2>]"
      ]
     },
     "execution_count": 11,
     "metadata": {},
     "output_type": "execute_result"
    }
   ],
   "source": [
    "# see also `soup.find_all`\n",
    "#\n",
    "# beautiful soup uses `class_` as the keyword argument for searching\n",
    "# for a class because `class` is a reserved word in python\n",
    "# we'll use the class name that we identified from looking in the inspector in chrome\n",
    "blogs = soup.find_all('h2', {'class': 'entry-title'})\n",
    "blogs"
   ]
  },
  {
   "cell_type": "code",
   "execution_count": 246,
   "id": "8b00a206",
   "metadata": {},
   "outputs": [],
   "source": [
    "# with open('blogs.txt', 'w') as f:\n",
    "#     f.write(blogs.text)"
   ]
  },
  {
   "cell_type": "code",
   "execution_count": 13,
   "id": "ab6ec652",
   "metadata": {},
   "outputs": [],
   "source": [
    "def get_blogs_text():\n",
    "    # if we already have the data, read it locally\n",
    "    if path.exists('blogs.txt'):\n",
    "        with open('blogs.txt') as f:\n",
    "            return f.read()\n",
    "\n",
    "    # otherwise go fetch the data\n",
    "    url = 'https://codeup.edu/blog/'\n",
    "    headers = {'User-Agent': 'Codeup Data Science'}\n",
    "    response = get(url, headers=headers)\n",
    "    soup = BeautifulSoup(response.text)\n",
    "    blogs = soup.find('div', id='main-content')\n",
    "\n",
    "    # save it for next time\n",
    "    with open('blogs.txt', 'w') as f:\n",
    "        f.write(blogs.text)\n",
    "\n",
    "    return blogs.text"
   ]
  },
  {
   "cell_type": "code",
   "execution_count": 14,
   "id": "b646bcf7",
   "metadata": {},
   "outputs": [
    {
     "name": "stdout",
     "output_type": "stream",
     "text": [
      "['https://codeup.edu/featured/apida-heritage-month/', 'https://codeup.edu/featured/women-in-tech-panelist-spotlight/', 'https://codeup.edu/featured/women-in-tech-rachel-robbins-mayhill/', 'https://codeup.edu/codeup-news/women-in-tech-panelist-spotlight-sarah-mellor/', 'https://codeup.edu/events/women-in-tech-madeleine/', 'https://codeup.edu/codeup-news/panelist-spotlight-4/']\n"
     ]
    }
   ],
   "source": [
    "link_list = []\n",
    "headline_list = []\n",
    "\n",
    "for div in blogs:\n",
    "    headline = div.a.text\n",
    "    headline_list.append(headline)\n",
    "    # print(div.a.text)\n",
    "#     a_tag = div.find('a')\n",
    "#     print(h_tag)\n",
    "    link = div.a['href']\n",
    "    link_list.append(link)\n",
    "\n",
    "    \n",
    "print(link_list)"
   ]
  },
  {
   "cell_type": "code",
   "execution_count": 15,
   "id": "932fd957",
   "metadata": {},
   "outputs": [
    {
     "data": {
      "text/plain": [
       "'https://codeup.edu/featured/apida-heritage-month/'"
      ]
     },
     "execution_count": 15,
     "metadata": {},
     "output_type": "execute_result"
    }
   ],
   "source": [
    "link_list[0]"
   ]
  },
  {
   "cell_type": "code",
   "execution_count": 131,
   "id": "28a70e29",
   "metadata": {},
   "outputs": [
    {
     "name": "stdout",
     "output_type": "stream",
     "text": [
      "https://codeup.edu/featured/apida-heritage-month/\n",
      "https://codeup.edu/featured/women-in-tech-panelist-spotlight/\n",
      "https://codeup.edu/featured/women-in-tech-rachel-robbins-mayhill/\n",
      "https://codeup.edu/codeup-news/women-in-tech-panelist-spotlight-sarah-mellor/\n",
      "https://codeup.edu/events/women-in-tech-madeleine/\n",
      "https://codeup.edu/codeup-news/panelist-spotlight-4/\n"
     ]
    }
   ],
   "source": [
    "content_list = []\n",
    "\n",
    "for url in link_list:\n",
    "    print(url)\n",
    "    headers = {'User-Agent': 'Codeup Data Science'}\n",
    "    response = get(url, headers=headers)\n",
    "    soup = BeautifulSoup(response.content, 'html.parser')\n",
    "    # print(soup)\n",
    "    soup = soup.find_all('div', class_='entry-content')\n",
    "    content_list.append(soup)\n"
   ]
  },
  {
   "cell_type": "code",
   "execution_count": 133,
   "id": "5556ab9a",
   "metadata": {
    "scrolled": true
   },
   "outputs": [
    {
     "data": {
      "text/plain": [
       "'\\nMay is traditionally known as Asian American and Pacific Islander (AAPI) Heritage Month. This month we celebrate the history and contributions made possible by our AAPI friends, family, and community. We also examine our level of support and seek opportunities to better understand the AAPI community.\\n\\nIn an effort to address real concerns and experiences, we sat down with Arbeena Thapa, one of Codeup’s Financial Aid and Enrollment Managers.\\nArbeena identifies as Nepali American and Desi. Arbeena’s parents immigrated to Texas in 1988 for better employment and educational opportunities. Arbeena’s older sister was five when they made the move to the US. Arbeena was born later, becoming the first in her family to be a US citizen.\\nAt Codeup we take our efforts at inclusivity very seriously. After speaking with Arbeena, we were taught that the term AAPI excludes Desi-American individuals. Hence, we will now use the term Asian Pacific Islander Desi American (APIDA).\\nHere is how the rest of our conversation with Arbeena went!\\nHow do you celebrate or connect with your heritage and cultural traditions?\\n“I celebrate Nepal’s version of Christmas or Dashain. This is a nine-day celebration also known as Dussehra. I grew up as Hindu and I identify as Hindu, this is a very large part of my heritage. “\\n“Other ways I connect with my culture include sharing food! Momos are South Asian Dumplings and they’re my favorite to make and share.”\\n“On my Asian American side, I am an advocate of immigrant justice and erasure within APIDA social or political movements. I participate in events to embrace my identity such as immigrant justice advocacy because I come from a mixed-status family. I’ve always been in a community with undocumented Asian immigrants. .”\\nWhat are some of the challenges you have faced as an APIDA individual, personally or professionally?\\n“I often struggle with being gendered as compliant or a pushover. Professionally, I am often stereotyped as meek, so I’ve been overlooked for leadership roles. We are seen as perpetually foreign; people tend to other us in that way, yet put us on a pedestal for what a model minority looks like. This has made me hesitant to share my heritage in the past because these assumptions get mapped onto me. ”\\nCan you describe some common barriers of entry that APIDA individuals, specifically women may face when trying to enter or advance in the workplace?\\n“Being overlooked for leadership. In the past, I have not been viewed as a leader. People sometimes have preconceived stereotypes of Asian women not being able to be bold, or being vocal can be mistaken for being too emotional. “\\nHow do you believe microaggressions impact APIDA individuals in the workplace? Can you provide examples of such microaggressions?\\n“Erasure is big. To me, only saying ‘Merry Christmas’ isn’t inclusive to other religions. People are often resistant to saying ‘Happy Holidays,’ but saying Merry Christmas excludes, and does not appreciate my heritage. “\\n“Often microaggressions are not micro at all. They typically are not aggressive racialized violence, but the term ‘micro’ minimizes impact.”\\n“Some that I’ve heard are ‘What kind of Asian are you?’ or ‘Where are you from?’ This automatically makes me the ‘other’ and not seen as American. Even within the APIDA community, South Asians are overlooked as “Asian”.”\\nHow important is representation, specifically APIDA representation, in organizational leadership positions?\\n“I want to say that it is important to have someone who looks like you in leadership roles, and it is, but those leaders may not share the same beliefs as you. Certain privileges such as wealth, resources, or lack of interaction with lower-socioeconomic-status Asian Americans may cause a difference in community politics. I do not think the bamboo ceiling is acceptable, but the company you work for plays a big part in your politics and belief alignment.”\\nHow do you feel about code-switching, and have you ever felt it necessary to code-switch?\\n“I like sharing South Asian terms or connecting with others that have similar heritage and culture. A workplace that is welcoming to going into this sort of breakout is refreshing and makes space for us. However, having to code-switch could also mean a workplace that is not conducive and welcoming of other cultures. “\\nFinally, in your opinion, what long-term strategies can create lasting change in the workplace and ensure support, equality, and inclusion for APIDA individuals?\\n“Prior to a career in financial aid, I did a lot of research related to the post-9/11 immigration of the South Asian diaspora. This background made me heavily rely on grassroots organizing. Hire the people that want to innovate, hire the changemakers, hire the button-pushers. Reduce reliance on whiteness as change. This will become natural for the organization and become organizational change. Change comes from us on the ground.”\\nA huge thank you to Arbeena Thapa for sharing her experiences, and being vulnerable with us. Your words were inspiring and the opportunity to understand your perspective more has been valuable. We hope we can become better support for the APIDA community as we learn and grow on our journey of cultivating inclusive growth.\\n'"
      ]
     },
     "execution_count": 133,
     "metadata": {},
     "output_type": "execute_result"
    }
   ],
   "source": [
    "content_list[0][0].text"
   ]
  },
  {
   "cell_type": "code",
   "execution_count": 136,
   "id": "cef02100",
   "metadata": {},
   "outputs": [
    {
     "name": "stdout",
     "output_type": "stream",
     "text": [
      "\n",
      "May is traditionally known as Asian American and Pacific Islander (AAPI) Heritage Month. This month we celebrate the history and contributions made possible by our AAPI friends, family, and community. We also examine our level of support and seek opportunities to better understand the AAPI community.\n",
      "\n",
      "In an effort to address real concerns and experiences, we sat down with Arbeena Thapa, one of Codeup’s Financial Aid and Enrollment Managers.\n",
      "Arbeena identifies as Nepali American and Desi. Arbeena’s parents immigrated to Texas in 1988 for better employment and educational opportunities. Arbeena’s older sister was five when they made the move to the US. Arbeena was born later, becoming the first in her family to be a US citizen.\n",
      "At Codeup we take our efforts at inclusivity very seriously. After speaking with Arbeena, we were taught that the term AAPI excludes Desi-American individuals. Hence, we will now use the term Asian Pacific Islander Desi American (APIDA).\n",
      "Here is how the rest of our conversation with Arbeena went!\n",
      "How do you celebrate or connect with your heritage and cultural traditions?\n",
      "“I celebrate Nepal’s version of Christmas or Dashain. This is a nine-day celebration also known as Dussehra. I grew up as Hindu and I identify as Hindu, this is a very large part of my heritage. “\n",
      "“Other ways I connect with my culture include sharing food! Momos are South Asian Dumplings and they’re my favorite to make and share.”\n",
      "“On my Asian American side, I am an advocate of immigrant justice and erasure within APIDA social or political movements. I participate in events to embrace my identity such as immigrant justice advocacy because I come from a mixed-status family. I’ve always been in a community with undocumented Asian immigrants. .”\n",
      "What are some of the challenges you have faced as an APIDA individual, personally or professionally?\n",
      "“I often struggle with being gendered as compliant or a pushover. Professionally, I am often stereotyped as meek, so I’ve been overlooked for leadership roles. We are seen as perpetually foreign; people tend to other us in that way, yet put us on a pedestal for what a model minority looks like. This has made me hesitant to share my heritage in the past because these assumptions get mapped onto me. ”\n",
      "Can you describe some common barriers of entry that APIDA individuals, specifically women may face when trying to enter or advance in the workplace?\n",
      "“Being overlooked for leadership. In the past, I have not been viewed as a leader. People sometimes have preconceived stereotypes of Asian women not being able to be bold, or being vocal can be mistaken for being too emotional. “\n",
      "How do you believe microaggressions impact APIDA individuals in the workplace? Can you provide examples of such microaggressions?\n",
      "“Erasure is big. To me, only saying ‘Merry Christmas’ isn’t inclusive to other religions. People are often resistant to saying ‘Happy Holidays,’ but saying Merry Christmas excludes, and does not appreciate my heritage. “\n",
      "“Often microaggressions are not micro at all. They typically are not aggressive racialized violence, but the term ‘micro’ minimizes impact.”\n",
      "“Some that I’ve heard are ‘What kind of Asian are you?’ or ‘Where are you from?’ This automatically makes me the ‘other’ and not seen as American. Even within the APIDA community, South Asians are overlooked as “Asian”.”\n",
      "How important is representation, specifically APIDA representation, in organizational leadership positions?\n",
      "“I want to say that it is important to have someone who looks like you in leadership roles, and it is, but those leaders may not share the same beliefs as you. Certain privileges such as wealth, resources, or lack of interaction with lower-socioeconomic-status Asian Americans may cause a difference in community politics. I do not think the bamboo ceiling is acceptable, but the company you work for plays a big part in your politics and belief alignment.”\n",
      "How do you feel about code-switching, and have you ever felt it necessary to code-switch?\n",
      "“I like sharing South Asian terms or connecting with others that have similar heritage and culture. A workplace that is welcoming to going into this sort of breakout is refreshing and makes space for us. However, having to code-switch could also mean a workplace that is not conducive and welcoming of other cultures. “\n",
      "Finally, in your opinion, what long-term strategies can create lasting change in the workplace and ensure support, equality, and inclusion for APIDA individuals?\n",
      "“Prior to a career in financial aid, I did a lot of research related to the post-9/11 immigration of the South Asian diaspora. This background made me heavily rely on grassroots organizing. Hire the people that want to innovate, hire the changemakers, hire the button-pushers. Reduce reliance on whiteness as change. This will become natural for the organization and become organizational change. Change comes from us on the ground.”\n",
      "A huge thank you to Arbeena Thapa for sharing her experiences, and being vulnerable with us. Your words were inspiring and the opportunity to understand your perspective more has been valuable. We hope we can become better support for the APIDA community as we learn and grow on our journey of cultivating inclusive growth.\n",
      "\n",
      "\n",
      "Women in tech: Panelist Spotlight – Magdalena Rahn\n",
      "Codeup is hosting a Women in Tech Panel in honor of Women’s History Month on March 29th, 2023! To further celebrate, we’d like to spotlight each of our panelists leading up to the discussion to learn a bit about their respective experiences as women in the tech industry!\n",
      "\n",
      "Meet Magdalena!\n",
      "Magdalena Rahn is a current Codeup student in a Data Science cohort in San Antonio, Texas. She has a professional background in cross-cultural communications, international business development, the wine industry and journalism. After serving in the US Navy, she decided to complement her professional skill set by attending the Data Science program at Codeup; she is set to graduate in March 2023. Magdalena is fluent in French, Bulgarian, Chinese-Mandarin, Spanish and Italian.\n",
      "We asked Magdalena how Codeup impacted her career, and she replied “Codeup has provided a solid foundation in analytical processes, programming and data science methods, and it’s been an encouragement to have such supportive instructors and wonderful classmates.”\n",
      "Don’t forget to tune in on March 29th to sit in on an insightful conversation with Magdalena.\n",
      "\n",
      "\n",
      "Women in tech: Panelist Spotlight – Rachel Robbins-Mayhill\n",
      "Codeup is hosting a Women in Tech Panel in honor of Women’s History Month on March 29th, 2023! To further celebrate, we’d like to spotlight each of our panelists leading up to the discussion to learn a bit about their respective experiences as women in the tech industry! Meet Rachel!\n",
      "\n",
      "Rachel Robbins-Mayhill is a Decision Science Analyst I in San Antonio, Texas. Rachel has had a varied career that includes counseling, teaching, training, community development, and military operations. Her focus has always been on assessing needs, identifying solutions, and educating individuals and groups on aligning needs and solutions in different contexts. Rachel’s passion for data science stems from her belief that data is a powerful tool for communicating patterns that can lead to hope and growth in the future.\n",
      "In June 2022, Rachel graduated from Codeup’s Innis cohort, where she honed her skills in data science. Shortly after, she started working as a Data Science Technical Writer with Apex Systems as a Contractor for USAA in July 2022. Her unconventional role allowed her to understand where her skills could be best utilized to support USAA in a non-contract role.\n",
      "Rachel recently joined USAA’s Data Science Delivery team as a Decision Science Analyst I in February 2023. The team is focused on delivering machine learning models for fraud prevention, and Rachel’s particular role centers around providing strategic process solutions for the team in collaboration with Operational and Model Risk components.\n",
      "In addition to her career, Rachel is currently pursuing a master’s degree in Applied Data Science from Syracuse University, further expanding her knowledge and skills in the field. Rachel is passionate about collaborating with individuals who share her belief in the potential of others and strive to achieve growth through logical, informed action. She welcomes LinkedIn connections and is excited about supporting the network of CodeUp alumni!\n",
      "We asked Rachel how Codeup impacted her career, and she replied “Codeup delivered a comprehensive education in all facets of the data science pipeline, laying a strong foundation for me to build upon. Through repeated hands-on practice, I developed a reliable process that was immediately applicable in my job. Collaborative group projects were instrumental in helping me hone my skills in project management, allowing me to navigate complex data science projects with comfortability. Thanks to this invaluable experience, I was able to make significant strides in my career within just six months of graduating from Codeup.”\n",
      "Don’t forget to tune in on March 29th to sit in on an insightful conversation.\n",
      "\n",
      "\n",
      "Women in tech: Panelist Spotlight – Sarah Mellor \n",
      "Codeup is hosting a Women in Tech Panel in honor of Women’s History Month on March 29th, 2023! To further celebrate, we’d like to spotlight each of our panelists leading up to the discussion to learn a bit about their respective experiences as women in the tech industry!\n",
      "Meet Sarah!\n",
      "Sarah Mellor currently works as the Director of People Operations. She joined Codeup four and a half years ago as an Admissions Manager. She went on to build out and lead the Marketing and Admissions team, while picking up People Ops tasks and projects here and there until moving over to lead the People Ops team two years ago. Prior to Codeup, she worked at education-focused non-profits in Washington, DC and Boulder, Colorado. She graduated from Wake Forest University.\n",
      "We asked Sarah how Codeup has impacted her career, and her response was “I have absolutely loved having the privilege to grow alongside Codeup. In my time here across multiple different roles and departments, I’ve seen a lot of change. The consistent things have always been the high quality of passionate and hardworking people I get to work with; the impactful mission we get to work on; and the inspiring students who trust us with their career change.”\n",
      "Don’t forget to tune in on March 29th to sit in on an insightful conversation.\n",
      "\n",
      "\n",
      "Women in tech: Panelist Spotlight – Madeleine Capper\n",
      "Codeup is hosting a Women in Tech Panel in honor of Women’s History Month on March 29th, 2023! To further celebrate, we’d like to spotlight each of our panelists leading up to the discussion to learn a bit about their respective experiences as women in the tech industry!\n",
      "Meet Madeleine!\n",
      "Madeleine Capper is a Data Scientist in San Antonio, Texas. A long-standing San Antonio resident, she studied mathematics at the University of Texas San Antonio and has worked as a Data Scientist for Booz Allen Hamilton. Madeleine currently teaches Data Science at Codeup, where she works daily with burgeoning data professionals to help them actualize their career aspirations through technical education.\n",
      "Madeleine attended Codeup as a student in early 2019 as a pupil in the very first Codeup Data Science cohort. The program proved immediately effective and she was the first student to obtain a data career out of the program. After working at Booz Allen Hamilton, Madeleine’s passion for education in conjunction with her appreciation for Codeup’s capacity for transformative life change brought her back to the institution in an instructional capacity, where she has been teaching for two years.\n",
      "Don’t forget to tune in on March 29th to sit in on an insightful conversation.\n",
      "\n",
      "\n",
      "Black excellence in tech: Panelist Spotlight – Wilmarie De La Cruz Mejia\n",
      "\n",
      "Codeup is hosting a Black Excellence in Tech Panel in honor of Black History Month on February 22, 2023! To further celebrate, we’d like to spotlight each of our panelists leading up to the discussion to learn a bit about their respective experiences as black leaders in the tech industry!  \n",
      "Meet Wilmarie!\n",
      "Wilmarie De La Cruz Mejia is a current Codeup student on the path to becoming a Full-Stack Web Developer at our Dallas, TX campus. \n",
      "Wilmarie is a veteran expanding her knowledge of programming languages and technologies on her journey with Codeup. \n",
      "We asked Wilmarie to share more about her experience at Codeup. She shares, “I was able to meet other people who were passionate about coding and be in a positive learning environment.”\n",
      "We hope you can join us on February 22nd to sit in on an insightful conversation with Wilmarie and all of our panelists!\n",
      "\n"
     ]
    }
   ],
   "source": [
    "text_list = []\n",
    "for content in content_list:\n",
    "    \n",
    "    #print(content[0].text)\n",
    "    \n",
    "    text = content[0].text\n",
    "    text_list.append(text)\n",
    "    print(text)\n"
   ]
  },
  {
   "cell_type": "code",
   "execution_count": 116,
   "id": "1df02e82",
   "metadata": {},
   "outputs": [
    {
     "data": {
      "text/plain": [
       "6"
      ]
     },
     "execution_count": 116,
     "metadata": {},
     "output_type": "execute_result"
    }
   ],
   "source": [
    "len(headline_list)"
   ]
  },
  {
   "cell_type": "code",
   "execution_count": 117,
   "id": "cd7e053f",
   "metadata": {},
   "outputs": [
    {
     "data": {
      "text/plain": [
       "6"
      ]
     },
     "execution_count": 117,
     "metadata": {},
     "output_type": "execute_result"
    }
   ],
   "source": [
    "len(text_list)"
   ]
  },
  {
   "cell_type": "code",
   "execution_count": 281,
   "id": "0ddd0796",
   "metadata": {},
   "outputs": [],
   "source": [
    "\n",
    "# create the funciton to call for the article dicntionary\n",
    "def get_blog_articles():\n",
    "    \n",
    "    # URL variable\n",
    "    url = 'https://codeup.edu/blog/'\n",
    "    \n",
    "    # credentials to scrape the website\n",
    "    headers = {'User-Agent': 'Codeup Data Science'} # Some websites don't accept the pyhon-requests default user-agent\n",
    "    \n",
    "    # Response from site\n",
    "    response = get(url, headers=headers)\n",
    "    \n",
    "    # Soup-ified response to be able to call what I need\n",
    "    soup = BeautifulSoup(response.content, 'html.parser')\n",
    "    \n",
    "    # Making blog variable to esaiser acess the content\n",
    "    blogs = soup.find_all('h2', {'class': 'entry-title'})\n",
    "    \n",
    "    # Create an empty list of links and headlines\n",
    "    link_list = []\n",
    "    headline_list = []\n",
    "\n",
    "    # Loop throught the blogs to retrieve the headline and link\n",
    "    for div in blogs:\n",
    "        headline = div.a.text\n",
    "        headline_list.append(headline)\n",
    "\n",
    "        link = div.a['href']\n",
    "        link_list.append(link)\n",
    "    \n",
    "    # Create an empty content_list\n",
    "    content_list = []\n",
    "\n",
    "    # Loop through linbk_list to obtain the content of the articles\n",
    "    for url in link_list:\n",
    "        # Creds\n",
    "        headers = {'User-Agent': 'Codeup Data Science'}\n",
    "        # Response\n",
    "        response = get(url, headers=headers)\n",
    "        # Soup\n",
    "        soup = BeautifulSoup(response.content, 'html.parser')\n",
    "        \n",
    "        soup = soup.find_all('div', class_='entry-content')\n",
    "        content_list.append(soup)\n",
    "\n",
    "    # Create empty list for text\n",
    "    text_list = []\n",
    "    \n",
    "    # Loop through the content_list for content\n",
    "    for content in content_list:\n",
    "        \n",
    "        text = content[0].text.strip()\n",
    "        text_list.append(text)\n",
    "    \n",
    "    article_data = []\n",
    "\n",
    "    # Extract and store the data in a list of dictionaries\n",
    "    for headline, article in zip(headline_list, text_list):\n",
    "        \n",
    "        article_dict = {\n",
    "            'title': headline,\n",
    "            'content': article\n",
    "        }\n",
    "        article_data.append(article_dict)# Extract and store the data in a list of dictionaries\n",
    "\n",
    "\n",
    "    return article_data\n"
   ]
  },
  {
   "cell_type": "code",
   "execution_count": 283,
   "id": "eaf38f62",
   "metadata": {},
   "outputs": [
    {
     "data": {
      "text/html": [
       "<div>\n",
       "<style scoped>\n",
       "    .dataframe tbody tr th:only-of-type {\n",
       "        vertical-align: middle;\n",
       "    }\n",
       "\n",
       "    .dataframe tbody tr th {\n",
       "        vertical-align: top;\n",
       "    }\n",
       "\n",
       "    .dataframe thead th {\n",
       "        text-align: right;\n",
       "    }\n",
       "</style>\n",
       "<table border=\"1\" class=\"dataframe\">\n",
       "  <thead>\n",
       "    <tr style=\"text-align: right;\">\n",
       "      <th></th>\n",
       "      <th>title</th>\n",
       "      <th>content</th>\n",
       "    </tr>\n",
       "  </thead>\n",
       "  <tbody>\n",
       "    <tr>\n",
       "      <th>0</th>\n",
       "      <td>Spotlight on APIDA Voices: Celebrating Heritag...</td>\n",
       "      <td>May is traditionally known as Asian American a...</td>\n",
       "    </tr>\n",
       "    <tr>\n",
       "      <th>1</th>\n",
       "      <td>Women in tech: Panelist Spotlight – Magdalena ...</td>\n",
       "      <td>Women in tech: Panelist Spotlight – Magdalena ...</td>\n",
       "    </tr>\n",
       "    <tr>\n",
       "      <th>2</th>\n",
       "      <td>Women in tech: Panelist Spotlight – Rachel Rob...</td>\n",
       "      <td>Women in tech: Panelist Spotlight – Rachel Rob...</td>\n",
       "    </tr>\n",
       "    <tr>\n",
       "      <th>3</th>\n",
       "      <td>Women in Tech: Panelist Spotlight – Sarah Mellor</td>\n",
       "      <td>Women in tech: Panelist Spotlight – Sarah Mell...</td>\n",
       "    </tr>\n",
       "    <tr>\n",
       "      <th>4</th>\n",
       "      <td>Women in Tech: Panelist Spotlight – Madeleine ...</td>\n",
       "      <td>Women in tech: Panelist Spotlight – Madeleine ...</td>\n",
       "    </tr>\n",
       "    <tr>\n",
       "      <th>5</th>\n",
       "      <td>Black Excellence in Tech: Panelist Spotlight –...</td>\n",
       "      <td>Black excellence in tech: Panelist Spotlight –...</td>\n",
       "    </tr>\n",
       "  </tbody>\n",
       "</table>\n",
       "</div>"
      ],
      "text/plain": [
       "                                               title  \\\n",
       "0  Spotlight on APIDA Voices: Celebrating Heritag...   \n",
       "1  Women in tech: Panelist Spotlight – Magdalena ...   \n",
       "2  Women in tech: Panelist Spotlight – Rachel Rob...   \n",
       "3   Women in Tech: Panelist Spotlight – Sarah Mellor   \n",
       "4  Women in Tech: Panelist Spotlight – Madeleine ...   \n",
       "5  Black Excellence in Tech: Panelist Spotlight –...   \n",
       "\n",
       "                                             content  \n",
       "0  May is traditionally known as Asian American a...  \n",
       "1  Women in tech: Panelist Spotlight – Magdalena ...  \n",
       "2  Women in tech: Panelist Spotlight – Rachel Rob...  \n",
       "3  Women in tech: Panelist Spotlight – Sarah Mell...  \n",
       "4  Women in tech: Panelist Spotlight – Madeleine ...  \n",
       "5  Black excellence in tech: Panelist Spotlight –...  "
      ]
     },
     "execution_count": 283,
     "metadata": {},
     "output_type": "execute_result"
    }
   ],
   "source": [
    "blog_article_df = pd.DataFrame(get_blog_articles())\n",
    "blog_article_df"
   ]
  },
  {
   "cell_type": "code",
   "execution_count": 139,
   "id": "3e264cb2",
   "metadata": {},
   "outputs": [
    {
     "ename": "SyntaxError",
     "evalue": "invalid syntax (801779300.py, line 1)",
     "output_type": "error",
     "traceback": [
      "\u001b[0;36m  Cell \u001b[0;32mIn[139], line 1\u001b[0;36m\u001b[0m\n\u001b[0;31m    https://inshorts.com/en/read/politics\u001b[0m\n\u001b[0m          ^\u001b[0m\n\u001b[0;31mSyntaxError\u001b[0m\u001b[0;31m:\u001b[0m invalid syntax\n"
     ]
    }
   ],
   "source": [
    "https://inshorts.com/en/read/politics"
   ]
  },
  {
   "cell_type": "code",
   "execution_count": null,
   "id": "93ac56a6",
   "metadata": {},
   "outputs": [],
   "source": [
    "def get_article_text():\n",
    "    # if we already have the data, read it locally\n",
    "#     if path.exists('article.txt'):\n",
    "#         with open('article.txt') as f:\n",
    "#             return f.read()\n",
    "\n",
    "    # otherwise go fetch the data\n",
    "\n",
    "\n",
    "    # save it for next time\n",
    "#     with open('article.txt', 'w') as f:\n",
    "#         f.write(article.text)\n",
    "\n",
    "    return article.text"
   ]
  },
  {
   "cell_type": "code",
   "execution_count": 191,
   "id": "cdd63801",
   "metadata": {},
   "outputs": [
    {
     "data": {
      "text/plain": [
       "[]"
      ]
     },
     "execution_count": 191,
     "metadata": {},
     "output_type": "execute_result"
    }
   ],
   "source": [
    "url = 'https://inshorts.com/en/read/Politics'\n",
    "response = get(url)\n",
    "soup = BeautifulSoup(response.text, 'html.parser')\n",
    "soup.find_all('div', {'class': 'karq8rsEqArxth2vPHZ2 jaEjrJ32WPlR7ttlVqQl'}) \n",
    "#= soup.find_all('div', class_='entry-content')"
   ]
  },
  {
   "cell_type": "code",
   "execution_count": 193,
   "id": "c690ed73",
   "metadata": {},
   "outputs": [
    {
     "ename": "InvalidArgumentException",
     "evalue": "Message: invalid argument: invalid locator\n  (Session info: chrome=115.0.5790.170)\nStacktrace:\n0   chromedriver                        0x0000000102892a6c chromedriver + 4303468\n1   chromedriver                        0x000000010288b198 chromedriver + 4272536\n2   chromedriver                        0x00000001024bf594 chromedriver + 292244\n3   chromedriver                        0x00000001024fc558 chromedriver + 542040\n4   chromedriver                        0x0000000102535628 chromedriver + 775720\n5   chromedriver                        0x00000001024f0b40 chromedriver + 494400\n6   chromedriver                        0x00000001024f1988 chromedriver + 498056\n7   chromedriver                        0x0000000102853924 chromedriver + 4045092\n8   chromedriver                        0x0000000102857e68 chromedriver + 4062824\n9   chromedriver                        0x000000010285e088 chromedriver + 4087944\n10  chromedriver                        0x000000010285896c chromedriver + 4065644\n11  chromedriver                        0x0000000102830e64 chromedriver + 3903076\n12  chromedriver                        0x000000010287455c chromedriver + 4179292\n13  chromedriver                        0x00000001028746b4 chromedriver + 4179636\n14  chromedriver                        0x0000000102884978 chromedriver + 4245880\n15  libsystem_pthread.dylib             0x000000019b34606c _pthread_start + 148\n16  libsystem_pthread.dylib             0x000000019b340e2c thread_start + 8\n",
     "output_type": "error",
     "traceback": [
      "\u001b[0;31m---------------------------------------------------------------------------\u001b[0m",
      "\u001b[0;31mInvalidArgumentException\u001b[0m                  Traceback (most recent call last)",
      "Cell \u001b[0;32mIn[193], line 13\u001b[0m\n\u001b[1;32m     10\u001b[0m driver\u001b[38;5;241m.\u001b[39mget(url)\n\u001b[1;32m     12\u001b[0m \u001b[38;5;66;03m# Find and click on the menu element\u001b[39;00m\n\u001b[0;32m---> 13\u001b[0m menu \u001b[38;5;241m=\u001b[39m \u001b[43mdriver\u001b[49m\u001b[38;5;241;43m.\u001b[39;49m\u001b[43mfind_element\u001b[49m\u001b[43m(\u001b[49m\u001b[38;5;124;43m'\u001b[39;49m\u001b[38;5;124;43mkarq8rsEqArxth2vPHZ2 jaEjrJ32WPlR7ttlVqQl\u001b[39;49m\u001b[38;5;124;43m'\u001b[39;49m\u001b[43m)\u001b[49m\n\u001b[1;32m     14\u001b[0m menu\u001b[38;5;241m.\u001b[39mclick()\n",
      "File \u001b[0;32m/opt/homebrew/anaconda3/lib/python3.10/site-packages/selenium/webdriver/remote/webdriver.py:739\u001b[0m, in \u001b[0;36mWebDriver.find_element\u001b[0;34m(self, by, value)\u001b[0m\n\u001b[1;32m    736\u001b[0m     by \u001b[38;5;241m=\u001b[39m By\u001b[38;5;241m.\u001b[39mCSS_SELECTOR\n\u001b[1;32m    737\u001b[0m     value \u001b[38;5;241m=\u001b[39m \u001b[38;5;124mf\u001b[39m\u001b[38;5;124m'\u001b[39m\u001b[38;5;124m[name=\u001b[39m\u001b[38;5;124m\"\u001b[39m\u001b[38;5;132;01m{\u001b[39;00mvalue\u001b[38;5;132;01m}\u001b[39;00m\u001b[38;5;124m\"\u001b[39m\u001b[38;5;124m]\u001b[39m\u001b[38;5;124m'\u001b[39m\n\u001b[0;32m--> 739\u001b[0m \u001b[38;5;28;01mreturn\u001b[39;00m \u001b[38;5;28;43mself\u001b[39;49m\u001b[38;5;241;43m.\u001b[39;49m\u001b[43mexecute\u001b[49m\u001b[43m(\u001b[49m\u001b[43mCommand\u001b[49m\u001b[38;5;241;43m.\u001b[39;49m\u001b[43mFIND_ELEMENT\u001b[49m\u001b[43m,\u001b[49m\u001b[43m \u001b[49m\u001b[43m{\u001b[49m\u001b[38;5;124;43m\"\u001b[39;49m\u001b[38;5;124;43musing\u001b[39;49m\u001b[38;5;124;43m\"\u001b[39;49m\u001b[43m:\u001b[49m\u001b[43m \u001b[49m\u001b[43mby\u001b[49m\u001b[43m,\u001b[49m\u001b[43m \u001b[49m\u001b[38;5;124;43m\"\u001b[39;49m\u001b[38;5;124;43mvalue\u001b[39;49m\u001b[38;5;124;43m\"\u001b[39;49m\u001b[43m:\u001b[49m\u001b[43m \u001b[49m\u001b[43mvalue\u001b[49m\u001b[43m}\u001b[49m\u001b[43m)\u001b[49m[\u001b[38;5;124m\"\u001b[39m\u001b[38;5;124mvalue\u001b[39m\u001b[38;5;124m\"\u001b[39m]\n",
      "File \u001b[0;32m/opt/homebrew/anaconda3/lib/python3.10/site-packages/selenium/webdriver/remote/webdriver.py:345\u001b[0m, in \u001b[0;36mWebDriver.execute\u001b[0;34m(self, driver_command, params)\u001b[0m\n\u001b[1;32m    343\u001b[0m response \u001b[38;5;241m=\u001b[39m \u001b[38;5;28mself\u001b[39m\u001b[38;5;241m.\u001b[39mcommand_executor\u001b[38;5;241m.\u001b[39mexecute(driver_command, params)\n\u001b[1;32m    344\u001b[0m \u001b[38;5;28;01mif\u001b[39;00m response:\n\u001b[0;32m--> 345\u001b[0m     \u001b[38;5;28;43mself\u001b[39;49m\u001b[38;5;241;43m.\u001b[39;49m\u001b[43merror_handler\u001b[49m\u001b[38;5;241;43m.\u001b[39;49m\u001b[43mcheck_response\u001b[49m\u001b[43m(\u001b[49m\u001b[43mresponse\u001b[49m\u001b[43m)\u001b[49m\n\u001b[1;32m    346\u001b[0m     response[\u001b[38;5;124m\"\u001b[39m\u001b[38;5;124mvalue\u001b[39m\u001b[38;5;124m\"\u001b[39m] \u001b[38;5;241m=\u001b[39m \u001b[38;5;28mself\u001b[39m\u001b[38;5;241m.\u001b[39m_unwrap_value(response\u001b[38;5;241m.\u001b[39mget(\u001b[38;5;124m\"\u001b[39m\u001b[38;5;124mvalue\u001b[39m\u001b[38;5;124m\"\u001b[39m, \u001b[38;5;28;01mNone\u001b[39;00m))\n\u001b[1;32m    347\u001b[0m     \u001b[38;5;28;01mreturn\u001b[39;00m response\n",
      "File \u001b[0;32m/opt/homebrew/anaconda3/lib/python3.10/site-packages/selenium/webdriver/remote/errorhandler.py:229\u001b[0m, in \u001b[0;36mErrorHandler.check_response\u001b[0;34m(self, response)\u001b[0m\n\u001b[1;32m    227\u001b[0m         alert_text \u001b[38;5;241m=\u001b[39m value[\u001b[38;5;124m\"\u001b[39m\u001b[38;5;124malert\u001b[39m\u001b[38;5;124m\"\u001b[39m]\u001b[38;5;241m.\u001b[39mget(\u001b[38;5;124m\"\u001b[39m\u001b[38;5;124mtext\u001b[39m\u001b[38;5;124m\"\u001b[39m)\n\u001b[1;32m    228\u001b[0m     \u001b[38;5;28;01mraise\u001b[39;00m exception_class(message, screen, stacktrace, alert_text)  \u001b[38;5;66;03m# type: ignore[call-arg]  # mypy is not smart enough here\u001b[39;00m\n\u001b[0;32m--> 229\u001b[0m \u001b[38;5;28;01mraise\u001b[39;00m exception_class(message, screen, stacktrace)\n",
      "\u001b[0;31mInvalidArgumentException\u001b[0m: Message: invalid argument: invalid locator\n  (Session info: chrome=115.0.5790.170)\nStacktrace:\n0   chromedriver                        0x0000000102892a6c chromedriver + 4303468\n1   chromedriver                        0x000000010288b198 chromedriver + 4272536\n2   chromedriver                        0x00000001024bf594 chromedriver + 292244\n3   chromedriver                        0x00000001024fc558 chromedriver + 542040\n4   chromedriver                        0x0000000102535628 chromedriver + 775720\n5   chromedriver                        0x00000001024f0b40 chromedriver + 494400\n6   chromedriver                        0x00000001024f1988 chromedriver + 498056\n7   chromedriver                        0x0000000102853924 chromedriver + 4045092\n8   chromedriver                        0x0000000102857e68 chromedriver + 4062824\n9   chromedriver                        0x000000010285e088 chromedriver + 4087944\n10  chromedriver                        0x000000010285896c chromedriver + 4065644\n11  chromedriver                        0x0000000102830e64 chromedriver + 3903076\n12  chromedriver                        0x000000010287455c chromedriver + 4179292\n13  chromedriver                        0x00000001028746b4 chromedriver + 4179636\n14  chromedriver                        0x0000000102884978 chromedriver + 4245880\n15  libsystem_pthread.dylib             0x000000019b34606c _pthread_start + 148\n16  libsystem_pthread.dylib             0x000000019b340e2c thread_start + 8\n"
     ]
    }
   ],
   "source": [
    "# from selenium import webdriver\n",
    "# from bs4 import BeautifulSoup\n",
    "\n",
    "# # Initialize the Chrome WebDriver\n",
    "# driver = webdriver.Chrome()\n",
    "\n",
    "# url = 'https://inshorts.com/en/read/'\n",
    "\n",
    "# # Open the URL in the WebDriver\n",
    "# driver.get(url)\n",
    "\n",
    "# # Find and click on the menu element\n",
    "# menu = driver.find_element('karq8rsEqArxth2vPHZ2 jaEjrJ32WPlR7ttlVqQl')\n",
    "# menu.click()"
   ]
  },
  {
   "cell_type": "code",
   "execution_count": 280,
   "id": "cc95adba",
   "metadata": {},
   "outputs": [
    {
     "data": {
      "text/plain": [
       "\"Why are doctors opposing medical commission's rule to prescribe generic drugs?\""
      ]
     },
     "execution_count": 280,
     "metadata": {},
     "output_type": "execute_result"
    }
   ],
   "source": [
    "url = 'https://inshorts.com/en/read/national'\n",
    "response = get(url)\n",
    "soup = BeautifulSoup(response.content, 'html.parser')\n",
    "# print(soup)\n",
    "# soup.find_all('div', {'class': 'VdsPqrmJYY7F2MNUKOwQ'}) \n",
    "#= soup.find_all('div', class_='entry-content')\n",
    "headline = soup.find_all('span', itemprop='headline')\n",
    "headline[0].text"
   ]
  },
  {
   "cell_type": "code",
   "execution_count": 274,
   "id": "fc323386",
   "metadata": {},
   "outputs": [
    {
     "data": {
      "text/plain": [
       "\"The Indian Medical Association, India's largest body of doctors, has opposed the National Medical Commission's guidelines mandating prescription of generic drugs instead of specific brands. It said the quality of Indian drugs needs to be ensured before implementing the generic medicine policy. IMA President also said the rule was brought without consultations and could hamper doctors' reputations.\""
      ]
     },
     "execution_count": 274,
     "metadata": {},
     "output_type": "execute_result"
    }
   ],
   "source": [
    "url = 'https://inshorts.com/en/read/national'\n",
    "response = get(url)\n",
    "soup = BeautifulSoup(response.content, 'html.parser')\n",
    "# print(soup)\n",
    "# soup.find_all('div', {'class': 'VdsPqrmJYY7F2MNUKOwQ'}) \n",
    "#= soup.find_all('div', class_='entry-content')\n",
    "article = soup.find_all('div', itemprop='articleBody')\n",
    "article[0].text"
   ]
  },
  {
   "cell_type": "code",
   "execution_count": 284,
   "id": "eac920d8",
   "metadata": {},
   "outputs": [],
   "source": [
    "path_list = ['business', 'sports', 'technology', 'entertainment']"
   ]
  },
  {
   "cell_type": "code",
   "execution_count": 4,
   "id": "811cca5f",
   "metadata": {},
   "outputs": [
    {
     "ename": "SyntaxError",
     "evalue": "invalid syntax (1705043218.py, line 15)",
     "output_type": "error",
     "traceback": [
      "\u001b[0;36m  Cell \u001b[0;32mIn[4], line 15\u001b[0;36m\u001b[0m\n\u001b[0;31m    headline_list.append(headline) for headline in soup\u001b[0m\n\u001b[0m                                   ^\u001b[0m\n\u001b[0;31mSyntaxError\u001b[0m\u001b[0;31m:\u001b[0m invalid syntax\n"
     ]
    }
   ],
   "source": [
    "# # Create a function to pull the articles and title\n",
    "# def get_news_articles():\n",
    "#     path_list = ['business', 'sports', 'technology', 'entertainment']\n",
    "    \n",
    "#     headline_list = []\n",
    "#     article_list = []\n",
    "#     # create a loop for paths\n",
    "#     for path in path_list:\n",
    "#         # URL \n",
    "#         url = 'https://inshorts.com/en/read/' + path\n",
    "#         # repspnse from the site\n",
    "#         response = get(url)\n",
    "#         # Creates the soup for parsing\n",
    "#         soup = BeautifulSoup(response.content, 'html.parser')\n",
    "#         headline_list.append(headline) for headline in soup\n",
    "#         # Finding where the title lives\n",
    "#         headlines = soup.find_all('span', itemprop='headline')\n",
    "#         # Puling the text from the soup\n",
    "#         title = headline[0].text\n",
    "#         # Finding where the article lives\n",
    "#         article = soup.find_all('div', itemprop='articleBody')\n",
    "#         # Pulling the text from the soup\n",
    "#         article = article[0].text\n",
    "#         # Creating the dicttionary\n",
    "#         arcitcle_dict = {\n",
    "#                         'title': title,\n",
    "#                         'content': article,\n",
    "#                         'category': path \n",
    "#                         }\n",
    "#         # Appending the dictionary to the list\n",
    "#         article_list.append(article_dict)\n",
    "        \n",
    "#     return article_list\n",
    "\n",
    "        \n",
    "\n"
   ]
  },
  {
   "cell_type": "code",
   "execution_count": 6,
   "id": "6fc9d8ac",
   "metadata": {},
   "outputs": [
    {
     "data": {
      "text/html": [
       "<div>\n",
       "<style scoped>\n",
       "    .dataframe tbody tr th:only-of-type {\n",
       "        vertical-align: middle;\n",
       "    }\n",
       "\n",
       "    .dataframe tbody tr th {\n",
       "        vertical-align: top;\n",
       "    }\n",
       "\n",
       "    .dataframe thead th {\n",
       "        text-align: right;\n",
       "    }\n",
       "</style>\n",
       "<table border=\"1\" class=\"dataframe\">\n",
       "  <thead>\n",
       "    <tr style=\"text-align: right;\">\n",
       "      <th></th>\n",
       "      <th>title</th>\n",
       "      <th>content</th>\n",
       "      <th>category</th>\n",
       "    </tr>\n",
       "  </thead>\n",
       "  <tbody>\n",
       "    <tr>\n",
       "      <th>0</th>\n",
       "      <td>What are the schemes &amp; projects approved by Ce...</td>\n",
       "      <td>The Union Cabinet on Wednesday approved severa...</td>\n",
       "      <td>business</td>\n",
       "    </tr>\n",
       "    <tr>\n",
       "      <th>1</th>\n",
       "      <td>Netherlands slips into recession</td>\n",
       "      <td>The Dutch economy has entered a recession as i...</td>\n",
       "      <td>business</td>\n",
       "    </tr>\n",
       "    <tr>\n",
       "      <th>2</th>\n",
       "      <td>Workers with traditional skills to get ₹1 lakh...</td>\n",
       "      <td>Union Railways Minister Ashwini Vaishnaw on We...</td>\n",
       "      <td>business</td>\n",
       "    </tr>\n",
       "    <tr>\n",
       "      <th>3</th>\n",
       "      <td>₹6.9 cr spent for treatment of 3,400 'dead' pa...</td>\n",
       "      <td>The Comptroller and Auditor General of India (...</td>\n",
       "      <td>business</td>\n",
       "    </tr>\n",
       "    <tr>\n",
       "      <th>4</th>\n",
       "      <td>What are the schemes &amp; projects approved by Ce...</td>\n",
       "      <td>The Union Cabinet on Wednesday approved severa...</td>\n",
       "      <td>sports</td>\n",
       "    </tr>\n",
       "    <tr>\n",
       "      <th>5</th>\n",
       "      <td>Netherlands slips into recession</td>\n",
       "      <td>The Dutch economy has entered a recession as i...</td>\n",
       "      <td>sports</td>\n",
       "    </tr>\n",
       "    <tr>\n",
       "      <th>6</th>\n",
       "      <td>Workers with traditional skills to get ₹1 lakh...</td>\n",
       "      <td>Union Railways Minister Ashwini Vaishnaw on We...</td>\n",
       "      <td>sports</td>\n",
       "    </tr>\n",
       "    <tr>\n",
       "      <th>7</th>\n",
       "      <td>₹6.9 cr spent for treatment of 3,400 'dead' pa...</td>\n",
       "      <td>The Comptroller and Auditor General of India (...</td>\n",
       "      <td>sports</td>\n",
       "    </tr>\n",
       "    <tr>\n",
       "      <th>8</th>\n",
       "      <td>What are the schemes &amp; projects approved by Ce...</td>\n",
       "      <td>The Union Cabinet on Wednesday approved severa...</td>\n",
       "      <td>technology</td>\n",
       "    </tr>\n",
       "    <tr>\n",
       "      <th>9</th>\n",
       "      <td>Netherlands slips into recession</td>\n",
       "      <td>The Dutch economy has entered a recession as i...</td>\n",
       "      <td>technology</td>\n",
       "    </tr>\n",
       "    <tr>\n",
       "      <th>10</th>\n",
       "      <td>Workers with traditional skills to get ₹1 lakh...</td>\n",
       "      <td>Union Railways Minister Ashwini Vaishnaw on We...</td>\n",
       "      <td>technology</td>\n",
       "    </tr>\n",
       "    <tr>\n",
       "      <th>11</th>\n",
       "      <td>₹6.9 cr spent for treatment of 3,400 'dead' pa...</td>\n",
       "      <td>The Comptroller and Auditor General of India (...</td>\n",
       "      <td>technology</td>\n",
       "    </tr>\n",
       "    <tr>\n",
       "      <th>12</th>\n",
       "      <td>What are the schemes &amp; projects approved by Ce...</td>\n",
       "      <td>The Union Cabinet on Wednesday approved severa...</td>\n",
       "      <td>entertainment</td>\n",
       "    </tr>\n",
       "    <tr>\n",
       "      <th>13</th>\n",
       "      <td>Netherlands slips into recession</td>\n",
       "      <td>The Dutch economy has entered a recession as i...</td>\n",
       "      <td>entertainment</td>\n",
       "    </tr>\n",
       "    <tr>\n",
       "      <th>14</th>\n",
       "      <td>Workers with traditional skills to get ₹1 lakh...</td>\n",
       "      <td>Union Railways Minister Ashwini Vaishnaw on We...</td>\n",
       "      <td>entertainment</td>\n",
       "    </tr>\n",
       "    <tr>\n",
       "      <th>15</th>\n",
       "      <td>₹6.9 cr spent for treatment of 3,400 'dead' pa...</td>\n",
       "      <td>The Comptroller and Auditor General of India (...</td>\n",
       "      <td>entertainment</td>\n",
       "    </tr>\n",
       "  </tbody>\n",
       "</table>\n",
       "</div>"
      ],
      "text/plain": [
       "                                                title  \\\n",
       "0   What are the schemes & projects approved by Ce...   \n",
       "1            Netherlands slips into recession           \n",
       "2   Workers with traditional skills to get ₹1 lakh...   \n",
       "3   ₹6.9 cr spent for treatment of 3,400 'dead' pa...   \n",
       "4   What are the schemes & projects approved by Ce...   \n",
       "5            Netherlands slips into recession           \n",
       "6   Workers with traditional skills to get ₹1 lakh...   \n",
       "7   ₹6.9 cr spent for treatment of 3,400 'dead' pa...   \n",
       "8   What are the schemes & projects approved by Ce...   \n",
       "9            Netherlands slips into recession           \n",
       "10  Workers with traditional skills to get ₹1 lakh...   \n",
       "11  ₹6.9 cr spent for treatment of 3,400 'dead' pa...   \n",
       "12  What are the schemes & projects approved by Ce...   \n",
       "13           Netherlands slips into recession           \n",
       "14  Workers with traditional skills to get ₹1 lakh...   \n",
       "15  ₹6.9 cr spent for treatment of 3,400 'dead' pa...   \n",
       "\n",
       "                                              content       category  \n",
       "0   The Union Cabinet on Wednesday approved severa...       business  \n",
       "1   The Dutch economy has entered a recession as i...       business  \n",
       "2   Union Railways Minister Ashwini Vaishnaw on We...       business  \n",
       "3   The Comptroller and Auditor General of India (...       business  \n",
       "4   The Union Cabinet on Wednesday approved severa...         sports  \n",
       "5   The Dutch economy has entered a recession as i...         sports  \n",
       "6   Union Railways Minister Ashwini Vaishnaw on We...         sports  \n",
       "7   The Comptroller and Auditor General of India (...         sports  \n",
       "8   The Union Cabinet on Wednesday approved severa...     technology  \n",
       "9   The Dutch economy has entered a recession as i...     technology  \n",
       "10  Union Railways Minister Ashwini Vaishnaw on We...     technology  \n",
       "11  The Comptroller and Auditor General of India (...     technology  \n",
       "12  The Union Cabinet on Wednesday approved severa...  entertainment  \n",
       "13  The Dutch economy has entered a recession as i...  entertainment  \n",
       "14  Union Railways Minister Ashwini Vaishnaw on We...  entertainment  \n",
       "15  The Comptroller and Auditor General of India (...  entertainment  "
      ]
     },
     "execution_count": 6,
     "metadata": {},
     "output_type": "execute_result"
    }
   ],
   "source": [
    "get_news_articles()"
   ]
  },
  {
   "cell_type": "code",
   "execution_count": 290,
   "id": "751f93aa",
   "metadata": {},
   "outputs": [
    {
     "data": {
      "text/html": [
       "<div>\n",
       "<style scoped>\n",
       "    .dataframe tbody tr th:only-of-type {\n",
       "        vertical-align: middle;\n",
       "    }\n",
       "\n",
       "    .dataframe tbody tr th {\n",
       "        vertical-align: top;\n",
       "    }\n",
       "\n",
       "    .dataframe thead th {\n",
       "        text-align: right;\n",
       "    }\n",
       "</style>\n",
       "<table border=\"1\" class=\"dataframe\">\n",
       "  <thead>\n",
       "    <tr style=\"text-align: right;\">\n",
       "      <th></th>\n",
       "      <th>title</th>\n",
       "      <th>content</th>\n",
       "    </tr>\n",
       "  </thead>\n",
       "  <tbody>\n",
       "    <tr>\n",
       "      <th>0</th>\n",
       "      <td>Black Excellence in Tech: Panelist Spotlight –...</td>\n",
       "      <td>\\nBlack excellence in tech: Panelist Spotlight...</td>\n",
       "    </tr>\n",
       "  </tbody>\n",
       "</table>\n",
       "</div>"
      ],
      "text/plain": [
       "                                               title  \\\n",
       "0  Black Excellence in Tech: Panelist Spotlight –...   \n",
       "\n",
       "                                             content  \n",
       "0  \\nBlack excellence in tech: Panelist Spotlight...  "
      ]
     },
     "execution_count": 290,
     "metadata": {},
     "output_type": "execute_result"
    }
   ],
   "source": [
    "article_df = pd.DataFrame(get_news_articles())\n",
    "article_df"
   ]
  },
  {
   "cell_type": "code",
   "execution_count": 2,
   "id": "877232fb",
   "metadata": {},
   "outputs": [],
   "source": [
    "from acquire import get_news_articles"
   ]
  },
  {
   "cell_type": "code",
   "execution_count": 3,
   "id": "9c48ccc0",
   "metadata": {},
   "outputs": [
    {
     "data": {
      "text/html": [
       "<div>\n",
       "<style scoped>\n",
       "    .dataframe tbody tr th:only-of-type {\n",
       "        vertical-align: middle;\n",
       "    }\n",
       "\n",
       "    .dataframe tbody tr th {\n",
       "        vertical-align: top;\n",
       "    }\n",
       "\n",
       "    .dataframe thead th {\n",
       "        text-align: right;\n",
       "    }\n",
       "</style>\n",
       "<table border=\"1\" class=\"dataframe\">\n",
       "  <thead>\n",
       "    <tr style=\"text-align: right;\">\n",
       "      <th></th>\n",
       "      <th>title</th>\n",
       "      <th>content</th>\n",
       "      <th>category</th>\n",
       "    </tr>\n",
       "  </thead>\n",
       "  <tbody>\n",
       "    <tr>\n",
       "      <th>0</th>\n",
       "      <td>What are the schemes &amp; projects approved by Ce...</td>\n",
       "      <td>The Union Cabinet on Wednesday approved severa...</td>\n",
       "      <td>business</td>\n",
       "    </tr>\n",
       "    <tr>\n",
       "      <th>1</th>\n",
       "      <td>Netherlands slips into recession</td>\n",
       "      <td>The Dutch economy has entered a recession as i...</td>\n",
       "      <td>business</td>\n",
       "    </tr>\n",
       "    <tr>\n",
       "      <th>2</th>\n",
       "      <td>Workers with traditional skills to get ₹1 lakh...</td>\n",
       "      <td>Union Railways Minister Ashwini Vaishnaw on We...</td>\n",
       "      <td>business</td>\n",
       "    </tr>\n",
       "    <tr>\n",
       "      <th>3</th>\n",
       "      <td>₹6.9 cr spent for treatment of 3,400 'dead' pa...</td>\n",
       "      <td>The Comptroller and Auditor General of India (...</td>\n",
       "      <td>business</td>\n",
       "    </tr>\n",
       "    <tr>\n",
       "      <th>4</th>\n",
       "      <td>What are the schemes &amp; projects approved by Ce...</td>\n",
       "      <td>The Union Cabinet on Wednesday approved severa...</td>\n",
       "      <td>sports</td>\n",
       "    </tr>\n",
       "    <tr>\n",
       "      <th>5</th>\n",
       "      <td>Netherlands slips into recession</td>\n",
       "      <td>The Dutch economy has entered a recession as i...</td>\n",
       "      <td>sports</td>\n",
       "    </tr>\n",
       "    <tr>\n",
       "      <th>6</th>\n",
       "      <td>Workers with traditional skills to get ₹1 lakh...</td>\n",
       "      <td>Union Railways Minister Ashwini Vaishnaw on We...</td>\n",
       "      <td>sports</td>\n",
       "    </tr>\n",
       "    <tr>\n",
       "      <th>7</th>\n",
       "      <td>₹6.9 cr spent for treatment of 3,400 'dead' pa...</td>\n",
       "      <td>The Comptroller and Auditor General of India (...</td>\n",
       "      <td>sports</td>\n",
       "    </tr>\n",
       "    <tr>\n",
       "      <th>8</th>\n",
       "      <td>What are the schemes &amp; projects approved by Ce...</td>\n",
       "      <td>The Union Cabinet on Wednesday approved severa...</td>\n",
       "      <td>technology</td>\n",
       "    </tr>\n",
       "    <tr>\n",
       "      <th>9</th>\n",
       "      <td>Netherlands slips into recession</td>\n",
       "      <td>The Dutch economy has entered a recession as i...</td>\n",
       "      <td>technology</td>\n",
       "    </tr>\n",
       "    <tr>\n",
       "      <th>10</th>\n",
       "      <td>Workers with traditional skills to get ₹1 lakh...</td>\n",
       "      <td>Union Railways Minister Ashwini Vaishnaw on We...</td>\n",
       "      <td>technology</td>\n",
       "    </tr>\n",
       "    <tr>\n",
       "      <th>11</th>\n",
       "      <td>₹6.9 cr spent for treatment of 3,400 'dead' pa...</td>\n",
       "      <td>The Comptroller and Auditor General of India (...</td>\n",
       "      <td>technology</td>\n",
       "    </tr>\n",
       "    <tr>\n",
       "      <th>12</th>\n",
       "      <td>What are the schemes &amp; projects approved by Ce...</td>\n",
       "      <td>The Union Cabinet on Wednesday approved severa...</td>\n",
       "      <td>entertainment</td>\n",
       "    </tr>\n",
       "    <tr>\n",
       "      <th>13</th>\n",
       "      <td>Netherlands slips into recession</td>\n",
       "      <td>The Dutch economy has entered a recession as i...</td>\n",
       "      <td>entertainment</td>\n",
       "    </tr>\n",
       "    <tr>\n",
       "      <th>14</th>\n",
       "      <td>Workers with traditional skills to get ₹1 lakh...</td>\n",
       "      <td>Union Railways Minister Ashwini Vaishnaw on We...</td>\n",
       "      <td>entertainment</td>\n",
       "    </tr>\n",
       "    <tr>\n",
       "      <th>15</th>\n",
       "      <td>₹6.9 cr spent for treatment of 3,400 'dead' pa...</td>\n",
       "      <td>The Comptroller and Auditor General of India (...</td>\n",
       "      <td>entertainment</td>\n",
       "    </tr>\n",
       "  </tbody>\n",
       "</table>\n",
       "</div>"
      ],
      "text/plain": [
       "                                                title  \\\n",
       "0   What are the schemes & projects approved by Ce...   \n",
       "1            Netherlands slips into recession           \n",
       "2   Workers with traditional skills to get ₹1 lakh...   \n",
       "3   ₹6.9 cr spent for treatment of 3,400 'dead' pa...   \n",
       "4   What are the schemes & projects approved by Ce...   \n",
       "5            Netherlands slips into recession           \n",
       "6   Workers with traditional skills to get ₹1 lakh...   \n",
       "7   ₹6.9 cr spent for treatment of 3,400 'dead' pa...   \n",
       "8   What are the schemes & projects approved by Ce...   \n",
       "9            Netherlands slips into recession           \n",
       "10  Workers with traditional skills to get ₹1 lakh...   \n",
       "11  ₹6.9 cr spent for treatment of 3,400 'dead' pa...   \n",
       "12  What are the schemes & projects approved by Ce...   \n",
       "13           Netherlands slips into recession           \n",
       "14  Workers with traditional skills to get ₹1 lakh...   \n",
       "15  ₹6.9 cr spent for treatment of 3,400 'dead' pa...   \n",
       "\n",
       "                                              content       category  \n",
       "0   The Union Cabinet on Wednesday approved severa...       business  \n",
       "1   The Dutch economy has entered a recession as i...       business  \n",
       "2   Union Railways Minister Ashwini Vaishnaw on We...       business  \n",
       "3   The Comptroller and Auditor General of India (...       business  \n",
       "4   The Union Cabinet on Wednesday approved severa...         sports  \n",
       "5   The Dutch economy has entered a recession as i...         sports  \n",
       "6   Union Railways Minister Ashwini Vaishnaw on We...         sports  \n",
       "7   The Comptroller and Auditor General of India (...         sports  \n",
       "8   The Union Cabinet on Wednesday approved severa...     technology  \n",
       "9   The Dutch economy has entered a recession as i...     technology  \n",
       "10  Union Railways Minister Ashwini Vaishnaw on We...     technology  \n",
       "11  The Comptroller and Auditor General of India (...     technology  \n",
       "12  The Union Cabinet on Wednesday approved severa...  entertainment  \n",
       "13  The Dutch economy has entered a recession as i...  entertainment  \n",
       "14  Union Railways Minister Ashwini Vaishnaw on We...  entertainment  \n",
       "15  The Comptroller and Auditor General of India (...  entertainment  "
      ]
     },
     "execution_count": 3,
     "metadata": {},
     "output_type": "execute_result"
    }
   ],
   "source": [
    "get_news_articles()"
   ]
  },
  {
   "cell_type": "code",
   "execution_count": null,
   "id": "0b3e9a46",
   "metadata": {},
   "outputs": [],
   "source": []
  }
 ],
 "metadata": {
  "kernelspec": {
   "display_name": "Python 3 (ipykernel)",
   "language": "python",
   "name": "python3"
  },
  "language_info": {
   "codemirror_mode": {
    "name": "ipython",
    "version": 3
   },
   "file_extension": ".py",
   "mimetype": "text/x-python",
   "name": "python",
   "nbconvert_exporter": "python",
   "pygments_lexer": "ipython3",
   "version": "3.10.9"
  }
 },
 "nbformat": 4,
 "nbformat_minor": 5
}
